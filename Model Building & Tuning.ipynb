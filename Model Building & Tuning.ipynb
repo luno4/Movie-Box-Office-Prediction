{
 "cells": [
  {
   "cell_type": "code",
   "execution_count": 67,
   "metadata": {},
   "outputs": [],
   "source": [
    "import pandas as pd\n",
    "import numpy as np\n",
    "import matplotlib.pyplot as plt\n",
    "%matplotlib inline\n",
    "\n",
    "import seaborn as sns\n",
    "from sklearn import preprocessing\n",
    "from sklearn.preprocessing import PolynomialFeatures\n",
    "\n",
    "from sklearn.model_selection import train_test_split,cross_val_score,StratifiedKFold\n",
    "from imblearn.over_sampling import SMOTE\n",
    "\n",
    "from sklearn.linear_model import LinearRegression, Ridge\n",
    "from sklearn.metrics import mean_squared_error, r2_score, roc_auc_score\n",
    "from sklearn.tree import DecisionTreeRegressor\n",
    "from sklearn.ensemble import RandomForestRegressor, AdaBoostRegressor, GradientBoostingRegressor\n",
    "from sklearn.neighbors import KNeighborsRegressor\n",
    "from sklearn.svm import SVR\n",
    "from sklearn.decomposition import PCA"
   ]
  },
  {
   "cell_type": "markdown",
   "metadata": {},
   "source": [
    "## Data Preprocessing"
   ]
  },
  {
   "cell_type": "code",
   "execution_count": 2,
   "metadata": {},
   "outputs": [
    {
     "data": {
      "text/html": [
       "<div>\n",
       "<style scoped>\n",
       "    .dataframe tbody tr th:only-of-type {\n",
       "        vertical-align: middle;\n",
       "    }\n",
       "\n",
       "    .dataframe tbody tr th {\n",
       "        vertical-align: top;\n",
       "    }\n",
       "\n",
       "    .dataframe thead th {\n",
       "        text-align: right;\n",
       "    }\n",
       "</style>\n",
       "<table border=\"1\" class=\"dataframe\">\n",
       "  <thead>\n",
       "    <tr style=\"text-align: right;\">\n",
       "      <th></th>\n",
       "      <th>movie</th>\n",
       "      <th>release year</th>\n",
       "      <th>release month</th>\n",
       "      <th>USA</th>\n",
       "      <th>UK</th>\n",
       "      <th>Germany</th>\n",
       "      <th>France</th>\n",
       "      <th>other countries</th>\n",
       "      <th>English</th>\n",
       "      <th>French</th>\n",
       "      <th>...</th>\n",
       "      <th>director match #</th>\n",
       "      <th>director average</th>\n",
       "      <th>director movie #</th>\n",
       "      <th>writer match #</th>\n",
       "      <th>writers average</th>\n",
       "      <th>writer movie #</th>\n",
       "      <th>budget (million)</th>\n",
       "      <th>Opening US (million)</th>\n",
       "      <th>US (million)</th>\n",
       "      <th>international (million)</th>\n",
       "    </tr>\n",
       "  </thead>\n",
       "  <tbody>\n",
       "    <tr>\n",
       "      <th>0</th>\n",
       "      <td>Ba wang bie ji</td>\n",
       "      <td>1993.0</td>\n",
       "      <td>1.0</td>\n",
       "      <td>0</td>\n",
       "      <td>0</td>\n",
       "      <td>0</td>\n",
       "      <td>0</td>\n",
       "      <td>1</td>\n",
       "      <td>0</td>\n",
       "      <td>0</td>\n",
       "      <td>...</td>\n",
       "      <td>0</td>\n",
       "      <td>0.0</td>\n",
       "      <td>0</td>\n",
       "      <td>0</td>\n",
       "      <td>0.0</td>\n",
       "      <td>0</td>\n",
       "      <td>4.0</td>\n",
       "      <td>NaN</td>\n",
       "      <td>5.216888</td>\n",
       "      <td>NaN</td>\n",
       "    </tr>\n",
       "    <tr>\n",
       "      <th>1</th>\n",
       "      <td>Arizona Dream</td>\n",
       "      <td>1993.0</td>\n",
       "      <td>1.0</td>\n",
       "      <td>1</td>\n",
       "      <td>0</td>\n",
       "      <td>0</td>\n",
       "      <td>1</td>\n",
       "      <td>0</td>\n",
       "      <td>1</td>\n",
       "      <td>0</td>\n",
       "      <td>...</td>\n",
       "      <td>0</td>\n",
       "      <td>0.0</td>\n",
       "      <td>0</td>\n",
       "      <td>0</td>\n",
       "      <td>0.0</td>\n",
       "      <td>0</td>\n",
       "      <td>19.0</td>\n",
       "      <td>NaN</td>\n",
       "      <td>0.106658</td>\n",
       "      <td>NaN</td>\n",
       "    </tr>\n",
       "    <tr>\n",
       "      <th>2</th>\n",
       "      <td>Leprechaun</td>\n",
       "      <td>1993.0</td>\n",
       "      <td>1.0</td>\n",
       "      <td>1</td>\n",
       "      <td>0</td>\n",
       "      <td>0</td>\n",
       "      <td>0</td>\n",
       "      <td>0</td>\n",
       "      <td>1</td>\n",
       "      <td>0</td>\n",
       "      <td>...</td>\n",
       "      <td>0</td>\n",
       "      <td>0.0</td>\n",
       "      <td>0</td>\n",
       "      <td>0</td>\n",
       "      <td>0.0</td>\n",
       "      <td>0</td>\n",
       "      <td>0.9</td>\n",
       "      <td>2.493020</td>\n",
       "      <td>8.556940</td>\n",
       "      <td>NaN</td>\n",
       "    </tr>\n",
       "    <tr>\n",
       "      <th>3</th>\n",
       "      <td>Body of Evidence</td>\n",
       "      <td>1993.0</td>\n",
       "      <td>1.0</td>\n",
       "      <td>1</td>\n",
       "      <td>0</td>\n",
       "      <td>1</td>\n",
       "      <td>0</td>\n",
       "      <td>0</td>\n",
       "      <td>1</td>\n",
       "      <td>0</td>\n",
       "      <td>...</td>\n",
       "      <td>0</td>\n",
       "      <td>0.0</td>\n",
       "      <td>0</td>\n",
       "      <td>0</td>\n",
       "      <td>0.0</td>\n",
       "      <td>0</td>\n",
       "      <td>30.0</td>\n",
       "      <td>NaN</td>\n",
       "      <td>13.275426</td>\n",
       "      <td>NaN</td>\n",
       "    </tr>\n",
       "    <tr>\n",
       "      <th>4</th>\n",
       "      <td>Alive</td>\n",
       "      <td>1993.0</td>\n",
       "      <td>1.0</td>\n",
       "      <td>1</td>\n",
       "      <td>0</td>\n",
       "      <td>0</td>\n",
       "      <td>0</td>\n",
       "      <td>0</td>\n",
       "      <td>1</td>\n",
       "      <td>0</td>\n",
       "      <td>...</td>\n",
       "      <td>0</td>\n",
       "      <td>0.0</td>\n",
       "      <td>0</td>\n",
       "      <td>0</td>\n",
       "      <td>0.0</td>\n",
       "      <td>0</td>\n",
       "      <td>32.0</td>\n",
       "      <td>8.624292</td>\n",
       "      <td>36.733909</td>\n",
       "      <td>NaN</td>\n",
       "    </tr>\n",
       "  </tbody>\n",
       "</table>\n",
       "<p>5 rows × 41 columns</p>\n",
       "</div>"
      ],
      "text/plain": [
       "              movie  release year  release month  USA  UK  Germany  France  \\\n",
       "0    Ba wang bie ji        1993.0            1.0    0   0        0       0   \n",
       "1     Arizona Dream        1993.0            1.0    1   0        0       1   \n",
       "2        Leprechaun        1993.0            1.0    1   0        0       0   \n",
       "3  Body of Evidence        1993.0            1.0    1   0        1       0   \n",
       "4             Alive        1993.0            1.0    1   0        0       0   \n",
       "\n",
       "   other countries  English  French           ...             \\\n",
       "0                1        0       0           ...              \n",
       "1                0        1       0           ...              \n",
       "2                0        1       0           ...              \n",
       "3                0        1       0           ...              \n",
       "4                0        1       0           ...              \n",
       "\n",
       "   director match #  director average  director movie #  writer match #  \\\n",
       "0                 0               0.0                 0               0   \n",
       "1                 0               0.0                 0               0   \n",
       "2                 0               0.0                 0               0   \n",
       "3                 0               0.0                 0               0   \n",
       "4                 0               0.0                 0               0   \n",
       "\n",
       "   writers average  writer movie #  budget (million)  Opening US (million)  \\\n",
       "0              0.0               0               4.0                   NaN   \n",
       "1              0.0               0              19.0                   NaN   \n",
       "2              0.0               0               0.9              2.493020   \n",
       "3              0.0               0              30.0                   NaN   \n",
       "4              0.0               0              32.0              8.624292   \n",
       "\n",
       "   US (million)  international (million)  \n",
       "0      5.216888                      NaN  \n",
       "1      0.106658                      NaN  \n",
       "2      8.556940                      NaN  \n",
       "3     13.275426                      NaN  \n",
       "4     36.733909                      NaN  \n",
       "\n",
       "[5 rows x 41 columns]"
      ]
     },
     "execution_count": 2,
     "metadata": {},
     "output_type": "execute_result"
    }
   ],
   "source": [
    "df=pd.read_csv('data table final.csv')\n",
    "df.head()"
   ]
  },
  {
   "cell_type": "code",
   "execution_count": 3,
   "metadata": {},
   "outputs": [
    {
     "data": {
      "text/html": [
       "<div>\n",
       "<style scoped>\n",
       "    .dataframe tbody tr th:only-of-type {\n",
       "        vertical-align: middle;\n",
       "    }\n",
       "\n",
       "    .dataframe tbody tr th {\n",
       "        vertical-align: top;\n",
       "    }\n",
       "\n",
       "    .dataframe thead th {\n",
       "        text-align: right;\n",
       "    }\n",
       "</style>\n",
       "<table border=\"1\" class=\"dataframe\">\n",
       "  <thead>\n",
       "    <tr style=\"text-align: right;\">\n",
       "      <th></th>\n",
       "      <th>movie</th>\n",
       "      <th>release year</th>\n",
       "      <th>release month</th>\n",
       "      <th>USA</th>\n",
       "      <th>UK</th>\n",
       "      <th>Germany</th>\n",
       "      <th>France</th>\n",
       "      <th>other countries</th>\n",
       "      <th>English</th>\n",
       "      <th>French</th>\n",
       "      <th>...</th>\n",
       "      <th>director match #</th>\n",
       "      <th>director average</th>\n",
       "      <th>director movie #</th>\n",
       "      <th>writer match #</th>\n",
       "      <th>writers average</th>\n",
       "      <th>writer movie #</th>\n",
       "      <th>budget (million)</th>\n",
       "      <th>Opening US (million)</th>\n",
       "      <th>US (million)</th>\n",
       "      <th>international (million)</th>\n",
       "    </tr>\n",
       "  </thead>\n",
       "  <tbody>\n",
       "    <tr>\n",
       "      <th>0</th>\n",
       "      <td>Ba wang bie ji</td>\n",
       "      <td>1993.0</td>\n",
       "      <td>1.0</td>\n",
       "      <td>0</td>\n",
       "      <td>0</td>\n",
       "      <td>0</td>\n",
       "      <td>0</td>\n",
       "      <td>1</td>\n",
       "      <td>0</td>\n",
       "      <td>0</td>\n",
       "      <td>...</td>\n",
       "      <td>0</td>\n",
       "      <td>0.0</td>\n",
       "      <td>0</td>\n",
       "      <td>0</td>\n",
       "      <td>0.0</td>\n",
       "      <td>0</td>\n",
       "      <td>4.0</td>\n",
       "      <td>NaN</td>\n",
       "      <td>5.216888</td>\n",
       "      <td>NaN</td>\n",
       "    </tr>\n",
       "    <tr>\n",
       "      <th>1</th>\n",
       "      <td>Arizona Dream</td>\n",
       "      <td>1993.0</td>\n",
       "      <td>1.0</td>\n",
       "      <td>1</td>\n",
       "      <td>0</td>\n",
       "      <td>0</td>\n",
       "      <td>1</td>\n",
       "      <td>0</td>\n",
       "      <td>1</td>\n",
       "      <td>0</td>\n",
       "      <td>...</td>\n",
       "      <td>0</td>\n",
       "      <td>0.0</td>\n",
       "      <td>0</td>\n",
       "      <td>0</td>\n",
       "      <td>0.0</td>\n",
       "      <td>0</td>\n",
       "      <td>19.0</td>\n",
       "      <td>NaN</td>\n",
       "      <td>0.106658</td>\n",
       "      <td>NaN</td>\n",
       "    </tr>\n",
       "    <tr>\n",
       "      <th>2</th>\n",
       "      <td>Leprechaun</td>\n",
       "      <td>1993.0</td>\n",
       "      <td>1.0</td>\n",
       "      <td>1</td>\n",
       "      <td>0</td>\n",
       "      <td>0</td>\n",
       "      <td>0</td>\n",
       "      <td>0</td>\n",
       "      <td>1</td>\n",
       "      <td>0</td>\n",
       "      <td>...</td>\n",
       "      <td>0</td>\n",
       "      <td>0.0</td>\n",
       "      <td>0</td>\n",
       "      <td>0</td>\n",
       "      <td>0.0</td>\n",
       "      <td>0</td>\n",
       "      <td>0.9</td>\n",
       "      <td>2.493020</td>\n",
       "      <td>8.556940</td>\n",
       "      <td>NaN</td>\n",
       "    </tr>\n",
       "    <tr>\n",
       "      <th>3</th>\n",
       "      <td>Body of Evidence</td>\n",
       "      <td>1993.0</td>\n",
       "      <td>1.0</td>\n",
       "      <td>1</td>\n",
       "      <td>0</td>\n",
       "      <td>1</td>\n",
       "      <td>0</td>\n",
       "      <td>0</td>\n",
       "      <td>1</td>\n",
       "      <td>0</td>\n",
       "      <td>...</td>\n",
       "      <td>0</td>\n",
       "      <td>0.0</td>\n",
       "      <td>0</td>\n",
       "      <td>0</td>\n",
       "      <td>0.0</td>\n",
       "      <td>0</td>\n",
       "      <td>30.0</td>\n",
       "      <td>NaN</td>\n",
       "      <td>13.275426</td>\n",
       "      <td>NaN</td>\n",
       "    </tr>\n",
       "    <tr>\n",
       "      <th>4</th>\n",
       "      <td>Alive</td>\n",
       "      <td>1993.0</td>\n",
       "      <td>1.0</td>\n",
       "      <td>1</td>\n",
       "      <td>0</td>\n",
       "      <td>0</td>\n",
       "      <td>0</td>\n",
       "      <td>0</td>\n",
       "      <td>1</td>\n",
       "      <td>0</td>\n",
       "      <td>...</td>\n",
       "      <td>0</td>\n",
       "      <td>0.0</td>\n",
       "      <td>0</td>\n",
       "      <td>0</td>\n",
       "      <td>0.0</td>\n",
       "      <td>0</td>\n",
       "      <td>32.0</td>\n",
       "      <td>8.624292</td>\n",
       "      <td>36.733909</td>\n",
       "      <td>NaN</td>\n",
       "    </tr>\n",
       "  </tbody>\n",
       "</table>\n",
       "<p>5 rows × 41 columns</p>\n",
       "</div>"
      ],
      "text/plain": [
       "              movie  release year  release month  USA  UK  Germany  France  \\\n",
       "0    Ba wang bie ji        1993.0            1.0    0   0        0       0   \n",
       "1     Arizona Dream        1993.0            1.0    1   0        0       1   \n",
       "2        Leprechaun        1993.0            1.0    1   0        0       0   \n",
       "3  Body of Evidence        1993.0            1.0    1   0        1       0   \n",
       "4             Alive        1993.0            1.0    1   0        0       0   \n",
       "\n",
       "   other countries  English  French           ...             \\\n",
       "0                1        0       0           ...              \n",
       "1                0        1       0           ...              \n",
       "2                0        1       0           ...              \n",
       "3                0        1       0           ...              \n",
       "4                0        1       0           ...              \n",
       "\n",
       "   director match #  director average  director movie #  writer match #  \\\n",
       "0                 0               0.0                 0               0   \n",
       "1                 0               0.0                 0               0   \n",
       "2                 0               0.0                 0               0   \n",
       "3                 0               0.0                 0               0   \n",
       "4                 0               0.0                 0               0   \n",
       "\n",
       "   writers average  writer movie #  budget (million)  Opening US (million)  \\\n",
       "0              0.0               0               4.0                   NaN   \n",
       "1              0.0               0              19.0                   NaN   \n",
       "2              0.0               0               0.9              2.493020   \n",
       "3              0.0               0              30.0                   NaN   \n",
       "4              0.0               0              32.0              8.624292   \n",
       "\n",
       "   US (million)  international (million)  \n",
       "0      5.216888                      NaN  \n",
       "1      0.106658                      NaN  \n",
       "2      8.556940                      NaN  \n",
       "3     13.275426                      NaN  \n",
       "4     36.733909                      NaN  \n",
       "\n",
       "[5 rows x 41 columns]"
      ]
     },
     "execution_count": 3,
     "metadata": {},
     "output_type": "execute_result"
    }
   ],
   "source": [
    "df1=df[(df['release year']!=2019)]\n",
    "df1.head()"
   ]
  },
  {
   "cell_type": "markdown",
   "metadata": {},
   "source": [
    "### build dataframe for US model"
   ]
  },
  {
   "cell_type": "code",
   "execution_count": 4,
   "metadata": {},
   "outputs": [
    {
     "data": {
      "image/png": "[encoded data removed]",
      "text/plain": [
       "<Figure size 648x432 with 1 Axes>"
      ]
     },
     "metadata": {
      "needs_background": "light"
     },
     "output_type": "display_data"
    }
   ],
   "source": [
    "plt.figure(figsize=(9,6))\n",
    "plt.hist(df1['US (million)'], bins=500);\n",
    "plt.axis([0, 1000,0,400]);\n",
    "plt.xlabel('US (million)',size=12);\n",
    "plt.ylabel('# of movies',size=12);"
   ]
  },
  {
   "cell_type": "code",
   "execution_count": 5,
   "metadata": {},
   "outputs": [
    {
     "data": {
      "text/plain": [
       "Text(0, 0.5, 'US Box Office (in Millions)')"
      ]
     },
     "execution_count": 5,
     "metadata": {},
     "output_type": "execute_result"
    },
    {
     "data": {
      "image/png": "[encoded data removed]",
      "text/plain": [
       "<Figure size 648x432 with 1 Axes>"
      ]
     },
     "metadata": {
      "needs_background": "light"
     },
     "output_type": "display_data"
    }
   ],
   "source": [
    "plt.figure(figsize=(9,6));\n",
    "df1['US (million)'].plot('box');\n",
    "plt.ylabel('US Box Office (in Millions)')"
   ]
  },
  {
   "cell_type": "code",
   "execution_count": 7,
   "metadata": {},
   "outputs": [
    {
     "data": {
      "text/plain": [
       "178.8047585"
      ]
     },
     "execution_count": 7,
     "metadata": {},
     "output_type": "execute_result"
    }
   ],
   "source": [
    "q_lower=df1['US (million)'].describe().loc['25%']\n",
    "q_upper=df1['US (million)'].describe().loc['75%']\n",
    "iqr = q_upper - q_lower\n",
    "\n",
    "top_boundary = q_upper+(iqr*3)\n",
    "top_boundary"
   ]
  },
  {
   "cell_type": "code",
   "execution_count": 8,
   "metadata": {},
   "outputs": [
    {
     "name": "stderr",
     "output_type": "stream",
     "text": [
      "C:\\Users\\LZJ1995\\Anaconda3\\lib\\site-packages\\pandas\\core\\indexing.py:543: SettingWithCopyWarning: \n",
      "A value is trying to be set on a copy of a slice from a DataFrame.\n",
      "Try using .loc[row_indexer,col_indexer] = value instead\n",
      "\n",
      "See the caveats in the documentation: http://pandas.pydata.org/pandas-docs/stable/indexing.html#indexing-view-versus-copy\n",
      "  self.obj[item] = s\n"
     ]
    },
    {
     "name": "stdout",
     "output_type": "stream",
     "text": [
      "<class 'pandas.core.frame.DataFrame'>\n",
      "Int64Index: 5834 entries, 4242 to 5211\n",
      "Data columns (total 41 columns):\n",
      "movie                      5834 non-null object\n",
      "release year               5834 non-null float64\n",
      "release month              5834 non-null float64\n",
      "USA                        5834 non-null int64\n",
      "UK                         5834 non-null int64\n",
      "Germany                    5834 non-null int64\n",
      "France                     5834 non-null int64\n",
      "other countries            5834 non-null int64\n",
      "English                    5834 non-null int64\n",
      "French                     5834 non-null int64\n",
      "Spanish                    5834 non-null int64\n",
      "German                     5834 non-null int64\n",
      "other languages            5834 non-null int64\n",
      "Action                     5834 non-null int64\n",
      "Drama                      5834 non-null int64\n",
      "Crime                      5834 non-null int64\n",
      "Comedy                     5834 non-null int64\n",
      "Adventure                  5834 non-null int64\n",
      "other categories           5834 non-null int64\n",
      "runtime                    5834 non-null float64\n",
      "rated                      5834 non-null object\n",
      "IMDB rating                5834 non-null float64\n",
      "Metacritic rating          5834 non-null float64\n",
      "votes number               5834 non-null int64\n",
      "reviews number             5834 non-null int64\n",
      "critics number             5834 non-null int64\n",
      "actor match #              5834 non-null int64\n",
      "actor average              5834 non-null float64\n",
      "actor movie #              5834 non-null int64\n",
      "actor min                  5834 non-null float64\n",
      "actor max                  5834 non-null float64\n",
      "director match #           5834 non-null int64\n",
      "director average           5834 non-null float64\n",
      "director movie #           5834 non-null int64\n",
      "writer match #             5834 non-null int64\n",
      "writers average            5834 non-null float64\n",
      "writer movie #             5834 non-null int64\n",
      "budget (million)           5834 non-null float64\n",
      "Opening US (million)       5834 non-null float64\n",
      "US (million)               5834 non-null float64\n",
      "international (million)    5834 non-null float64\n",
      "dtypes: float64(14), int64(25), object(2)\n",
      "memory usage: 1.9+ MB\n"
     ]
    }
   ],
   "source": [
    "df1.loc[:,'release year':'international (million)']=df1.loc[:,'release year':'international (million)'].fillna(0)\n",
    "df1=df1.sort_values(by='US (million)',ascending=True)\n",
    "\n",
    "df1.info()"
   ]
  },
  {
   "cell_type": "code",
   "execution_count": 9,
   "metadata": {},
   "outputs": [
    {
     "data": {
      "text/html": [
       "<div>\n",
       "<style scoped>\n",
       "    .dataframe tbody tr th:only-of-type {\n",
       "        vertical-align: middle;\n",
       "    }\n",
       "\n",
       "    .dataframe tbody tr th {\n",
       "        vertical-align: top;\n",
       "    }\n",
       "\n",
       "    .dataframe thead th {\n",
       "        text-align: right;\n",
       "    }\n",
       "</style>\n",
       "<table border=\"1\" class=\"dataframe\">\n",
       "  <thead>\n",
       "    <tr style=\"text-align: right;\">\n",
       "      <th></th>\n",
       "      <th>ID</th>\n",
       "      <th>movie</th>\n",
       "      <th>release year</th>\n",
       "      <th>release month</th>\n",
       "      <th>USA</th>\n",
       "      <th>UK</th>\n",
       "      <th>Germany</th>\n",
       "      <th>France</th>\n",
       "      <th>other countries</th>\n",
       "      <th>English</th>\n",
       "      <th>...</th>\n",
       "      <th>director match #</th>\n",
       "      <th>director average</th>\n",
       "      <th>director movie #</th>\n",
       "      <th>writer match #</th>\n",
       "      <th>writers average</th>\n",
       "      <th>writer movie #</th>\n",
       "      <th>budget (million)</th>\n",
       "      <th>Opening US (million)</th>\n",
       "      <th>US (million)</th>\n",
       "      <th>international (million)</th>\n",
       "    </tr>\n",
       "  </thead>\n",
       "  <tbody>\n",
       "    <tr>\n",
       "      <th>0</th>\n",
       "      <td>0</td>\n",
       "      <td>Playback</td>\n",
       "      <td>2012.0</td>\n",
       "      <td>3.0</td>\n",
       "      <td>1</td>\n",
       "      <td>0</td>\n",
       "      <td>0</td>\n",
       "      <td>0</td>\n",
       "      <td>0</td>\n",
       "      <td>1</td>\n",
       "      <td>...</td>\n",
       "      <td>0</td>\n",
       "      <td>0.0</td>\n",
       "      <td>0</td>\n",
       "      <td>0</td>\n",
       "      <td>0.0</td>\n",
       "      <td>0</td>\n",
       "      <td>1.600000</td>\n",
       "      <td>0.000252</td>\n",
       "      <td>0.000252</td>\n",
       "      <td>0.0</td>\n",
       "    </tr>\n",
       "    <tr>\n",
       "      <th>1</th>\n",
       "      <td>1</td>\n",
       "      <td>Trojan War</td>\n",
       "      <td>1997.0</td>\n",
       "      <td>10.0</td>\n",
       "      <td>1</td>\n",
       "      <td>0</td>\n",
       "      <td>0</td>\n",
       "      <td>0</td>\n",
       "      <td>0</td>\n",
       "      <td>1</td>\n",
       "      <td>...</td>\n",
       "      <td>0</td>\n",
       "      <td>0.0</td>\n",
       "      <td>0</td>\n",
       "      <td>0</td>\n",
       "      <td>0.0</td>\n",
       "      <td>0</td>\n",
       "      <td>15.000000</td>\n",
       "      <td>0.000217</td>\n",
       "      <td>0.000309</td>\n",
       "      <td>0.0</td>\n",
       "    </tr>\n",
       "    <tr>\n",
       "      <th>2</th>\n",
       "      <td>2</td>\n",
       "      <td>Death of a Superhero</td>\n",
       "      <td>2012.0</td>\n",
       "      <td>8.0</td>\n",
       "      <td>0</td>\n",
       "      <td>0</td>\n",
       "      <td>1</td>\n",
       "      <td>0</td>\n",
       "      <td>0</td>\n",
       "      <td>1</td>\n",
       "      <td>...</td>\n",
       "      <td>0</td>\n",
       "      <td>0.0</td>\n",
       "      <td>0</td>\n",
       "      <td>0</td>\n",
       "      <td>0.0</td>\n",
       "      <td>0</td>\n",
       "      <td>4.766720</td>\n",
       "      <td>0.000345</td>\n",
       "      <td>0.000345</td>\n",
       "      <td>0.0</td>\n",
       "    </tr>\n",
       "    <tr>\n",
       "      <th>3</th>\n",
       "      <td>3</td>\n",
       "      <td>Evil Cult</td>\n",
       "      <td>2003.0</td>\n",
       "      <td>11.0</td>\n",
       "      <td>1</td>\n",
       "      <td>0</td>\n",
       "      <td>0</td>\n",
       "      <td>0</td>\n",
       "      <td>0</td>\n",
       "      <td>1</td>\n",
       "      <td>...</td>\n",
       "      <td>0</td>\n",
       "      <td>0.0</td>\n",
       "      <td>0</td>\n",
       "      <td>0</td>\n",
       "      <td>0.0</td>\n",
       "      <td>0</td>\n",
       "      <td>0.015000</td>\n",
       "      <td>0.000270</td>\n",
       "      <td>0.000375</td>\n",
       "      <td>0.0</td>\n",
       "    </tr>\n",
       "    <tr>\n",
       "      <th>4</th>\n",
       "      <td>4</td>\n",
       "      <td>The Decoy Bride</td>\n",
       "      <td>2012.0</td>\n",
       "      <td>3.0</td>\n",
       "      <td>0</td>\n",
       "      <td>1</td>\n",
       "      <td>0</td>\n",
       "      <td>0</td>\n",
       "      <td>0</td>\n",
       "      <td>1</td>\n",
       "      <td>...</td>\n",
       "      <td>0</td>\n",
       "      <td>0.0</td>\n",
       "      <td>0</td>\n",
       "      <td>0</td>\n",
       "      <td>0.0</td>\n",
       "      <td>0</td>\n",
       "      <td>3.944912</td>\n",
       "      <td>0.000542</td>\n",
       "      <td>0.000542</td>\n",
       "      <td>0.0</td>\n",
       "    </tr>\n",
       "  </tbody>\n",
       "</table>\n",
       "<p>5 rows × 42 columns</p>\n",
       "</div>"
      ],
      "text/plain": [
       "   ID                 movie  release year  release month  USA  UK  Germany  \\\n",
       "0   0              Playback        2012.0            3.0    1   0        0   \n",
       "1   1            Trojan War        1997.0           10.0    1   0        0   \n",
       "2   2  Death of a Superhero        2012.0            8.0    0   0        1   \n",
       "3   3             Evil Cult        2003.0           11.0    1   0        0   \n",
       "4   4       The Decoy Bride        2012.0            3.0    0   1        0   \n",
       "\n",
       "   France  other countries  English           ...             \\\n",
       "0       0                0        1           ...              \n",
       "1       0                0        1           ...              \n",
       "2       0                0        1           ...              \n",
       "3       0                0        1           ...              \n",
       "4       0                0        1           ...              \n",
       "\n",
       "   director match #  director average  director movie #  writer match #  \\\n",
       "0                 0               0.0                 0               0   \n",
       "1                 0               0.0                 0               0   \n",
       "2                 0               0.0                 0               0   \n",
       "3                 0               0.0                 0               0   \n",
       "4                 0               0.0                 0               0   \n",
       "\n",
       "   writers average  writer movie #  budget (million)  Opening US (million)  \\\n",
       "0              0.0               0          1.600000              0.000252   \n",
       "1              0.0               0         15.000000              0.000217   \n",
       "2              0.0               0          4.766720              0.000345   \n",
       "3              0.0               0          0.015000              0.000270   \n",
       "4              0.0               0          3.944912              0.000542   \n",
       "\n",
       "   US (million)  international (million)  \n",
       "0      0.000252                      0.0  \n",
       "1      0.000309                      0.0  \n",
       "2      0.000345                      0.0  \n",
       "3      0.000375                      0.0  \n",
       "4      0.000542                      0.0  \n",
       "\n",
       "[5 rows x 42 columns]"
      ]
     },
     "execution_count": 9,
     "metadata": {},
     "output_type": "execute_result"
    }
   ],
   "source": [
    "df2=df1.reset_index().drop(columns='index')\n",
    "df3=df2.reset_index().rename(columns={'index':'ID'})\n",
    "df3.head()"
   ]
  },
  {
   "cell_type": "code",
   "execution_count": 10,
   "metadata": {},
   "outputs": [
    {
     "data": {
      "text/html": [
       "<div>\n",
       "<style scoped>\n",
       "    .dataframe tbody tr th:only-of-type {\n",
       "        vertical-align: middle;\n",
       "    }\n",
       "\n",
       "    .dataframe tbody tr th {\n",
       "        vertical-align: top;\n",
       "    }\n",
       "\n",
       "    .dataframe thead th {\n",
       "        text-align: right;\n",
       "    }\n",
       "</style>\n",
       "<table border=\"1\" class=\"dataframe\">\n",
       "  <thead>\n",
       "    <tr style=\"text-align: right;\">\n",
       "      <th></th>\n",
       "      <th>ID</th>\n",
       "      <th>movie</th>\n",
       "      <th>US (million)</th>\n",
       "    </tr>\n",
       "  </thead>\n",
       "  <tbody>\n",
       "    <tr>\n",
       "      <th>0</th>\n",
       "      <td>0</td>\n",
       "      <td>Playback</td>\n",
       "      <td>0.000252</td>\n",
       "    </tr>\n",
       "    <tr>\n",
       "      <th>1</th>\n",
       "      <td>1</td>\n",
       "      <td>Trojan War</td>\n",
       "      <td>0.000309</td>\n",
       "    </tr>\n",
       "    <tr>\n",
       "      <th>2</th>\n",
       "      <td>2</td>\n",
       "      <td>Death of a Superhero</td>\n",
       "      <td>0.000345</td>\n",
       "    </tr>\n",
       "    <tr>\n",
       "      <th>3</th>\n",
       "      <td>3</td>\n",
       "      <td>Evil Cult</td>\n",
       "      <td>0.000375</td>\n",
       "    </tr>\n",
       "    <tr>\n",
       "      <th>4</th>\n",
       "      <td>4</td>\n",
       "      <td>The Decoy Bride</td>\n",
       "      <td>0.000542</td>\n",
       "    </tr>\n",
       "  </tbody>\n",
       "</table>\n",
       "</div>"
      ],
      "text/plain": [
       "   ID                 movie  US (million)\n",
       "0   0              Playback      0.000252\n",
       "1   1            Trojan War      0.000309\n",
       "2   2  Death of a Superhero      0.000345\n",
       "3   3             Evil Cult      0.000375\n",
       "4   4       The Decoy Bride      0.000542"
      ]
     },
     "execution_count": 10,
     "metadata": {},
     "output_type": "execute_result"
    }
   ],
   "source": [
    "US_Movie=df3[['ID','movie','US (million)']]\n",
    "US_Movie.head()"
   ]
  },
  {
   "cell_type": "code",
   "execution_count": 11,
   "metadata": {},
   "outputs": [
    {
     "data": {
      "text/html": [
       "<div>\n",
       "<style scoped>\n",
       "    .dataframe tbody tr th:only-of-type {\n",
       "        vertical-align: middle;\n",
       "    }\n",
       "\n",
       "    .dataframe tbody tr th {\n",
       "        vertical-align: top;\n",
       "    }\n",
       "\n",
       "    .dataframe thead th {\n",
       "        text-align: right;\n",
       "    }\n",
       "</style>\n",
       "<table border=\"1\" class=\"dataframe\">\n",
       "  <thead>\n",
       "    <tr style=\"text-align: right;\">\n",
       "      <th></th>\n",
       "      <th>ID</th>\n",
       "      <th>release month</th>\n",
       "      <th>USA</th>\n",
       "      <th>UK</th>\n",
       "      <th>Germany</th>\n",
       "      <th>France</th>\n",
       "      <th>other countries</th>\n",
       "      <th>English</th>\n",
       "      <th>French</th>\n",
       "      <th>Spanish</th>\n",
       "      <th>...</th>\n",
       "      <th>actor max</th>\n",
       "      <th>director match #</th>\n",
       "      <th>director average</th>\n",
       "      <th>director movie #</th>\n",
       "      <th>writer match #</th>\n",
       "      <th>writers average</th>\n",
       "      <th>writer movie #</th>\n",
       "      <th>budget (million)</th>\n",
       "      <th>Opening US (million)</th>\n",
       "      <th>US (million)</th>\n",
       "    </tr>\n",
       "  </thead>\n",
       "  <tbody>\n",
       "    <tr>\n",
       "      <th>0</th>\n",
       "      <td>0</td>\n",
       "      <td>3.0</td>\n",
       "      <td>1</td>\n",
       "      <td>0</td>\n",
       "      <td>0</td>\n",
       "      <td>0</td>\n",
       "      <td>0</td>\n",
       "      <td>1</td>\n",
       "      <td>0</td>\n",
       "      <td>0</td>\n",
       "      <td>...</td>\n",
       "      <td>0.0</td>\n",
       "      <td>0</td>\n",
       "      <td>0.0</td>\n",
       "      <td>0</td>\n",
       "      <td>0</td>\n",
       "      <td>0.0</td>\n",
       "      <td>0</td>\n",
       "      <td>1.600000</td>\n",
       "      <td>0.000252</td>\n",
       "      <td>0.000252</td>\n",
       "    </tr>\n",
       "    <tr>\n",
       "      <th>1</th>\n",
       "      <td>1</td>\n",
       "      <td>10.0</td>\n",
       "      <td>1</td>\n",
       "      <td>0</td>\n",
       "      <td>0</td>\n",
       "      <td>0</td>\n",
       "      <td>0</td>\n",
       "      <td>1</td>\n",
       "      <td>0</td>\n",
       "      <td>1</td>\n",
       "      <td>...</td>\n",
       "      <td>0.0</td>\n",
       "      <td>0</td>\n",
       "      <td>0.0</td>\n",
       "      <td>0</td>\n",
       "      <td>0</td>\n",
       "      <td>0.0</td>\n",
       "      <td>0</td>\n",
       "      <td>15.000000</td>\n",
       "      <td>0.000217</td>\n",
       "      <td>0.000309</td>\n",
       "    </tr>\n",
       "    <tr>\n",
       "      <th>2</th>\n",
       "      <td>2</td>\n",
       "      <td>8.0</td>\n",
       "      <td>0</td>\n",
       "      <td>0</td>\n",
       "      <td>1</td>\n",
       "      <td>0</td>\n",
       "      <td>0</td>\n",
       "      <td>1</td>\n",
       "      <td>0</td>\n",
       "      <td>0</td>\n",
       "      <td>...</td>\n",
       "      <td>167.6</td>\n",
       "      <td>0</td>\n",
       "      <td>0.0</td>\n",
       "      <td>0</td>\n",
       "      <td>0</td>\n",
       "      <td>0.0</td>\n",
       "      <td>0</td>\n",
       "      <td>4.766720</td>\n",
       "      <td>0.000345</td>\n",
       "      <td>0.000345</td>\n",
       "    </tr>\n",
       "    <tr>\n",
       "      <th>3</th>\n",
       "      <td>3</td>\n",
       "      <td>11.0</td>\n",
       "      <td>1</td>\n",
       "      <td>0</td>\n",
       "      <td>0</td>\n",
       "      <td>0</td>\n",
       "      <td>0</td>\n",
       "      <td>1</td>\n",
       "      <td>0</td>\n",
       "      <td>0</td>\n",
       "      <td>...</td>\n",
       "      <td>0.0</td>\n",
       "      <td>0</td>\n",
       "      <td>0.0</td>\n",
       "      <td>0</td>\n",
       "      <td>0</td>\n",
       "      <td>0.0</td>\n",
       "      <td>0</td>\n",
       "      <td>0.015000</td>\n",
       "      <td>0.000270</td>\n",
       "      <td>0.000375</td>\n",
       "    </tr>\n",
       "    <tr>\n",
       "      <th>4</th>\n",
       "      <td>4</td>\n",
       "      <td>3.0</td>\n",
       "      <td>0</td>\n",
       "      <td>1</td>\n",
       "      <td>0</td>\n",
       "      <td>0</td>\n",
       "      <td>0</td>\n",
       "      <td>1</td>\n",
       "      <td>0</td>\n",
       "      <td>0</td>\n",
       "      <td>...</td>\n",
       "      <td>0.0</td>\n",
       "      <td>0</td>\n",
       "      <td>0.0</td>\n",
       "      <td>0</td>\n",
       "      <td>0</td>\n",
       "      <td>0.0</td>\n",
       "      <td>0</td>\n",
       "      <td>3.944912</td>\n",
       "      <td>0.000542</td>\n",
       "      <td>0.000542</td>\n",
       "    </tr>\n",
       "  </tbody>\n",
       "</table>\n",
       "<p>5 rows × 39 columns</p>\n",
       "</div>"
      ],
      "text/plain": [
       "   ID  release month  USA  UK  Germany  France  other countries  English  \\\n",
       "0   0            3.0    1   0        0       0                0        1   \n",
       "1   1           10.0    1   0        0       0                0        1   \n",
       "2   2            8.0    0   0        1       0                0        1   \n",
       "3   3           11.0    1   0        0       0                0        1   \n",
       "4   4            3.0    0   1        0       0                0        1   \n",
       "\n",
       "   French  Spanish     ...       actor max  director match #  \\\n",
       "0       0        0     ...             0.0                 0   \n",
       "1       0        1     ...             0.0                 0   \n",
       "2       0        0     ...           167.6                 0   \n",
       "3       0        0     ...             0.0                 0   \n",
       "4       0        0     ...             0.0                 0   \n",
       "\n",
       "   director average  director movie #  writer match #  writers average  \\\n",
       "0               0.0                 0               0              0.0   \n",
       "1               0.0                 0               0              0.0   \n",
       "2               0.0                 0               0              0.0   \n",
       "3               0.0                 0               0              0.0   \n",
       "4               0.0                 0               0              0.0   \n",
       "\n",
       "   writer movie #  budget (million)  Opening US (million) US (million)  \n",
       "0               0          1.600000              0.000252     0.000252  \n",
       "1               0         15.000000              0.000217     0.000309  \n",
       "2               0          4.766720              0.000345     0.000345  \n",
       "3               0          0.015000              0.000270     0.000375  \n",
       "4               0          3.944912              0.000542     0.000542  \n",
       "\n",
       "[5 rows x 39 columns]"
      ]
     },
     "execution_count": 11,
     "metadata": {},
     "output_type": "execute_result"
    }
   ],
   "source": [
    "US_M=df3.drop(columns=['movie','release year','international (million)'])\n",
    "US_M.head()"
   ]
  },
  {
   "cell_type": "code",
   "execution_count": 12,
   "metadata": {
    "scrolled": true
   },
   "outputs": [
    {
     "data": {
      "text/html": [
       "<div>\n",
       "<style scoped>\n",
       "    .dataframe tbody tr th:only-of-type {\n",
       "        vertical-align: middle;\n",
       "    }\n",
       "\n",
       "    .dataframe tbody tr th {\n",
       "        vertical-align: top;\n",
       "    }\n",
       "\n",
       "    .dataframe thead th {\n",
       "        text-align: right;\n",
       "    }\n",
       "</style>\n",
       "<table border=\"1\" class=\"dataframe\">\n",
       "  <thead>\n",
       "    <tr style=\"text-align: right;\">\n",
       "      <th></th>\n",
       "      <th>ID</th>\n",
       "      <th>release month</th>\n",
       "      <th>USA</th>\n",
       "      <th>UK</th>\n",
       "      <th>Germany</th>\n",
       "      <th>France</th>\n",
       "      <th>other countries</th>\n",
       "      <th>English</th>\n",
       "      <th>French</th>\n",
       "      <th>Spanish</th>\n",
       "      <th>...</th>\n",
       "      <th>writer movie #</th>\n",
       "      <th>budget (million)</th>\n",
       "      <th>Opening US (million)</th>\n",
       "      <th>US (million)</th>\n",
       "      <th>rated_G</th>\n",
       "      <th>rated_NC-17</th>\n",
       "      <th>rated_Not Rated</th>\n",
       "      <th>rated_PG</th>\n",
       "      <th>rated_PG-13</th>\n",
       "      <th>rated_R</th>\n",
       "    </tr>\n",
       "  </thead>\n",
       "  <tbody>\n",
       "    <tr>\n",
       "      <th>0</th>\n",
       "      <td>0</td>\n",
       "      <td>3.0</td>\n",
       "      <td>1</td>\n",
       "      <td>0</td>\n",
       "      <td>0</td>\n",
       "      <td>0</td>\n",
       "      <td>0</td>\n",
       "      <td>1</td>\n",
       "      <td>0</td>\n",
       "      <td>0</td>\n",
       "      <td>...</td>\n",
       "      <td>0</td>\n",
       "      <td>1.600000</td>\n",
       "      <td>0.000252</td>\n",
       "      <td>0.000252</td>\n",
       "      <td>0</td>\n",
       "      <td>0</td>\n",
       "      <td>0</td>\n",
       "      <td>0</td>\n",
       "      <td>0</td>\n",
       "      <td>1</td>\n",
       "    </tr>\n",
       "    <tr>\n",
       "      <th>1</th>\n",
       "      <td>1</td>\n",
       "      <td>10.0</td>\n",
       "      <td>1</td>\n",
       "      <td>0</td>\n",
       "      <td>0</td>\n",
       "      <td>0</td>\n",
       "      <td>0</td>\n",
       "      <td>1</td>\n",
       "      <td>0</td>\n",
       "      <td>1</td>\n",
       "      <td>...</td>\n",
       "      <td>0</td>\n",
       "      <td>15.000000</td>\n",
       "      <td>0.000217</td>\n",
       "      <td>0.000309</td>\n",
       "      <td>0</td>\n",
       "      <td>0</td>\n",
       "      <td>0</td>\n",
       "      <td>0</td>\n",
       "      <td>1</td>\n",
       "      <td>0</td>\n",
       "    </tr>\n",
       "    <tr>\n",
       "      <th>2</th>\n",
       "      <td>2</td>\n",
       "      <td>8.0</td>\n",
       "      <td>0</td>\n",
       "      <td>0</td>\n",
       "      <td>1</td>\n",
       "      <td>0</td>\n",
       "      <td>0</td>\n",
       "      <td>1</td>\n",
       "      <td>0</td>\n",
       "      <td>0</td>\n",
       "      <td>...</td>\n",
       "      <td>0</td>\n",
       "      <td>4.766720</td>\n",
       "      <td>0.000345</td>\n",
       "      <td>0.000345</td>\n",
       "      <td>0</td>\n",
       "      <td>0</td>\n",
       "      <td>1</td>\n",
       "      <td>0</td>\n",
       "      <td>0</td>\n",
       "      <td>0</td>\n",
       "    </tr>\n",
       "    <tr>\n",
       "      <th>3</th>\n",
       "      <td>3</td>\n",
       "      <td>11.0</td>\n",
       "      <td>1</td>\n",
       "      <td>0</td>\n",
       "      <td>0</td>\n",
       "      <td>0</td>\n",
       "      <td>0</td>\n",
       "      <td>1</td>\n",
       "      <td>0</td>\n",
       "      <td>0</td>\n",
       "      <td>...</td>\n",
       "      <td>0</td>\n",
       "      <td>0.015000</td>\n",
       "      <td>0.000270</td>\n",
       "      <td>0.000375</td>\n",
       "      <td>0</td>\n",
       "      <td>0</td>\n",
       "      <td>1</td>\n",
       "      <td>0</td>\n",
       "      <td>0</td>\n",
       "      <td>0</td>\n",
       "    </tr>\n",
       "    <tr>\n",
       "      <th>4</th>\n",
       "      <td>4</td>\n",
       "      <td>3.0</td>\n",
       "      <td>0</td>\n",
       "      <td>1</td>\n",
       "      <td>0</td>\n",
       "      <td>0</td>\n",
       "      <td>0</td>\n",
       "      <td>1</td>\n",
       "      <td>0</td>\n",
       "      <td>0</td>\n",
       "      <td>...</td>\n",
       "      <td>0</td>\n",
       "      <td>3.944912</td>\n",
       "      <td>0.000542</td>\n",
       "      <td>0.000542</td>\n",
       "      <td>0</td>\n",
       "      <td>0</td>\n",
       "      <td>0</td>\n",
       "      <td>1</td>\n",
       "      <td>0</td>\n",
       "      <td>0</td>\n",
       "    </tr>\n",
       "  </tbody>\n",
       "</table>\n",
       "<p>5 rows × 44 columns</p>\n",
       "</div>"
      ],
      "text/plain": [
       "   ID  release month  USA  UK  Germany  France  other countries  English  \\\n",
       "0   0            3.0    1   0        0       0                0        1   \n",
       "1   1           10.0    1   0        0       0                0        1   \n",
       "2   2            8.0    0   0        1       0                0        1   \n",
       "3   3           11.0    1   0        0       0                0        1   \n",
       "4   4            3.0    0   1        0       0                0        1   \n",
       "\n",
       "   French  Spanish   ...     writer movie #  budget (million)  \\\n",
       "0       0        0   ...                  0          1.600000   \n",
       "1       0        1   ...                  0         15.000000   \n",
       "2       0        0   ...                  0          4.766720   \n",
       "3       0        0   ...                  0          0.015000   \n",
       "4       0        0   ...                  0          3.944912   \n",
       "\n",
       "   Opening US (million)  US (million)  rated_G  rated_NC-17  rated_Not Rated  \\\n",
       "0              0.000252      0.000252        0            0                0   \n",
       "1              0.000217      0.000309        0            0                0   \n",
       "2              0.000345      0.000345        0            0                1   \n",
       "3              0.000270      0.000375        0            0                1   \n",
       "4              0.000542      0.000542        0            0                0   \n",
       "\n",
       "   rated_PG  rated_PG-13  rated_R  \n",
       "0         0            0        1  \n",
       "1         0            1        0  \n",
       "2         0            0        0  \n",
       "3         0            0        0  \n",
       "4         1            0        0  \n",
       "\n",
       "[5 rows x 44 columns]"
      ]
     },
     "execution_count": 12,
     "metadata": {},
     "output_type": "execute_result"
    }
   ],
   "source": [
    "US_M=pd.get_dummies(US_M)\n",
    "US_M.head()"
   ]
  },
  {
   "cell_type": "code",
   "execution_count": 13,
   "metadata": {},
   "outputs": [
    {
     "data": {
      "text/plain": [
       "Index(['ID', 'release month', 'USA', 'UK', 'Germany', 'France',\n",
       "       'other countries', 'English', 'French', 'Spanish', 'German',\n",
       "       'other languages', 'Action', 'Drama', 'Crime', 'Comedy', 'Adventure',\n",
       "       'other categories', 'runtime', 'IMDB rating', 'Metacritic rating',\n",
       "       'votes number', 'reviews number', 'critics number', 'actor match #',\n",
       "       'actor average', 'actor movie #', 'actor min', 'actor max',\n",
       "       'director match #', 'director average', 'director movie #',\n",
       "       'writer match #', 'writers average', 'writer movie #',\n",
       "       'budget (million)', 'Opening US (million)', 'US (million)', 'rated_G',\n",
       "       'rated_NC-17', 'rated_Not Rated', 'rated_PG', 'rated_PG-13', 'rated_R'],\n",
       "      dtype='object')"
      ]
     },
     "execution_count": 13,
     "metadata": {},
     "output_type": "execute_result"
    }
   ],
   "source": [
    "US_M.columns"
   ]
  },
  {
   "cell_type": "markdown",
   "metadata": {},
   "source": [
    "US_M = US_M[['release month','USA', 'UK', 'Germany', 'France', 'other countries', 'English', 'French','Spanish', 'German',\\\n",
    "             'other languages','Action', 'Drama','Crime', 'Comedy', 'Adventure','other categories',\\\n",
    "               'runtime','rated_G', 'rated_NC-17', 'rated_PG','rated_PG-13', 'rated_R', 'rated_Not Rated','IMDB rating',\\\n",
    "             'Metacritic rating', 'votes number','reviews number','critics number','director match #', 'director average',\\\n",
    "             'director movie #', 'writer match #', 'writers average','writer movie #', 'budget (million)', 'Opening US (million)','US (million)']]\n"
   ]
  },
  {
   "cell_type": "code",
   "execution_count": 14,
   "metadata": {},
   "outputs": [],
   "source": [
    "US_M['release month']=US_M['release month'].astype(int)\n",
    "US_M['Metacritic rating']=US_M['Metacritic rating'].astype(int)"
   ]
  },
  {
   "cell_type": "code",
   "execution_count": 15,
   "metadata": {},
   "outputs": [],
   "source": [
    "US_M_LR=US_M[US_M['US (million)']<=178.8047585]"
   ]
  },
  {
   "cell_type": "code",
   "execution_count": 16,
   "metadata": {},
   "outputs": [],
   "source": [
    "US_M_Log=US_M.copy()"
   ]
  },
  {
   "cell_type": "code",
   "execution_count": 17,
   "metadata": {},
   "outputs": [
    {
     "data": {
      "text/html": [
       "<div>\n",
       "<style scoped>\n",
       "    .dataframe tbody tr th:only-of-type {\n",
       "        vertical-align: middle;\n",
       "    }\n",
       "\n",
       "    .dataframe tbody tr th {\n",
       "        vertical-align: top;\n",
       "    }\n",
       "\n",
       "    .dataframe thead th {\n",
       "        text-align: right;\n",
       "    }\n",
       "</style>\n",
       "<table border=\"1\" class=\"dataframe\">\n",
       "  <thead>\n",
       "    <tr style=\"text-align: right;\">\n",
       "      <th></th>\n",
       "      <th>ID</th>\n",
       "      <th>release month</th>\n",
       "      <th>USA</th>\n",
       "      <th>UK</th>\n",
       "      <th>Germany</th>\n",
       "      <th>France</th>\n",
       "      <th>other countries</th>\n",
       "      <th>English</th>\n",
       "      <th>French</th>\n",
       "      <th>Spanish</th>\n",
       "      <th>...</th>\n",
       "      <th>writer movie #</th>\n",
       "      <th>budget (million)</th>\n",
       "      <th>Opening US (million)</th>\n",
       "      <th>US (million)</th>\n",
       "      <th>rated_G</th>\n",
       "      <th>rated_NC-17</th>\n",
       "      <th>rated_Not Rated</th>\n",
       "      <th>rated_PG</th>\n",
       "      <th>rated_PG-13</th>\n",
       "      <th>rated_R</th>\n",
       "    </tr>\n",
       "  </thead>\n",
       "  <tbody>\n",
       "    <tr>\n",
       "      <th>0</th>\n",
       "      <td>0</td>\n",
       "      <td>3</td>\n",
       "      <td>1</td>\n",
       "      <td>0</td>\n",
       "      <td>0</td>\n",
       "      <td>0</td>\n",
       "      <td>0</td>\n",
       "      <td>1</td>\n",
       "      <td>0</td>\n",
       "      <td>0</td>\n",
       "      <td>...</td>\n",
       "      <td>0</td>\n",
       "      <td>1.600000</td>\n",
       "      <td>0.000252</td>\n",
       "      <td>-3.598599</td>\n",
       "      <td>0</td>\n",
       "      <td>0</td>\n",
       "      <td>0</td>\n",
       "      <td>0</td>\n",
       "      <td>0</td>\n",
       "      <td>1</td>\n",
       "    </tr>\n",
       "    <tr>\n",
       "      <th>1</th>\n",
       "      <td>1</td>\n",
       "      <td>10</td>\n",
       "      <td>1</td>\n",
       "      <td>0</td>\n",
       "      <td>0</td>\n",
       "      <td>0</td>\n",
       "      <td>0</td>\n",
       "      <td>1</td>\n",
       "      <td>0</td>\n",
       "      <td>1</td>\n",
       "      <td>...</td>\n",
       "      <td>0</td>\n",
       "      <td>15.000000</td>\n",
       "      <td>0.000217</td>\n",
       "      <td>-3.510042</td>\n",
       "      <td>0</td>\n",
       "      <td>0</td>\n",
       "      <td>0</td>\n",
       "      <td>0</td>\n",
       "      <td>1</td>\n",
       "      <td>0</td>\n",
       "    </tr>\n",
       "    <tr>\n",
       "      <th>2</th>\n",
       "      <td>2</td>\n",
       "      <td>8</td>\n",
       "      <td>0</td>\n",
       "      <td>0</td>\n",
       "      <td>1</td>\n",
       "      <td>0</td>\n",
       "      <td>0</td>\n",
       "      <td>1</td>\n",
       "      <td>0</td>\n",
       "      <td>0</td>\n",
       "      <td>...</td>\n",
       "      <td>0</td>\n",
       "      <td>4.766720</td>\n",
       "      <td>0.000345</td>\n",
       "      <td>-3.462181</td>\n",
       "      <td>0</td>\n",
       "      <td>0</td>\n",
       "      <td>1</td>\n",
       "      <td>0</td>\n",
       "      <td>0</td>\n",
       "      <td>0</td>\n",
       "    </tr>\n",
       "    <tr>\n",
       "      <th>3</th>\n",
       "      <td>3</td>\n",
       "      <td>11</td>\n",
       "      <td>1</td>\n",
       "      <td>0</td>\n",
       "      <td>0</td>\n",
       "      <td>0</td>\n",
       "      <td>0</td>\n",
       "      <td>1</td>\n",
       "      <td>0</td>\n",
       "      <td>0</td>\n",
       "      <td>...</td>\n",
       "      <td>0</td>\n",
       "      <td>0.015000</td>\n",
       "      <td>0.000270</td>\n",
       "      <td>-3.425969</td>\n",
       "      <td>0</td>\n",
       "      <td>0</td>\n",
       "      <td>1</td>\n",
       "      <td>0</td>\n",
       "      <td>0</td>\n",
       "      <td>0</td>\n",
       "    </tr>\n",
       "    <tr>\n",
       "      <th>4</th>\n",
       "      <td>4</td>\n",
       "      <td>3</td>\n",
       "      <td>0</td>\n",
       "      <td>1</td>\n",
       "      <td>0</td>\n",
       "      <td>0</td>\n",
       "      <td>0</td>\n",
       "      <td>1</td>\n",
       "      <td>0</td>\n",
       "      <td>0</td>\n",
       "      <td>...</td>\n",
       "      <td>0</td>\n",
       "      <td>3.944912</td>\n",
       "      <td>0.000542</td>\n",
       "      <td>-3.266001</td>\n",
       "      <td>0</td>\n",
       "      <td>0</td>\n",
       "      <td>0</td>\n",
       "      <td>1</td>\n",
       "      <td>0</td>\n",
       "      <td>0</td>\n",
       "    </tr>\n",
       "  </tbody>\n",
       "</table>\n",
       "<p>5 rows × 44 columns</p>\n",
       "</div>"
      ],
      "text/plain": [
       "   ID  release month  USA  UK  Germany  France  other countries  English  \\\n",
       "0   0              3    1   0        0       0                0        1   \n",
       "1   1             10    1   0        0       0                0        1   \n",
       "2   2              8    0   0        1       0                0        1   \n",
       "3   3             11    1   0        0       0                0        1   \n",
       "4   4              3    0   1        0       0                0        1   \n",
       "\n",
       "   French  Spanish   ...     writer movie #  budget (million)  \\\n",
       "0       0        0   ...                  0          1.600000   \n",
       "1       0        1   ...                  0         15.000000   \n",
       "2       0        0   ...                  0          4.766720   \n",
       "3       0        0   ...                  0          0.015000   \n",
       "4       0        0   ...                  0          3.944912   \n",
       "\n",
       "   Opening US (million)  US (million)  rated_G  rated_NC-17  rated_Not Rated  \\\n",
       "0              0.000252     -3.598599        0            0                0   \n",
       "1              0.000217     -3.510042        0            0                0   \n",
       "2              0.000345     -3.462181        0            0                1   \n",
       "3              0.000270     -3.425969        0            0                1   \n",
       "4              0.000542     -3.266001        0            0                0   \n",
       "\n",
       "   rated_PG  rated_PG-13  rated_R  \n",
       "0         0            0        1  \n",
       "1         0            1        0  \n",
       "2         0            0        0  \n",
       "3         0            0        0  \n",
       "4         1            0        0  \n",
       "\n",
       "[5 rows x 44 columns]"
      ]
     },
     "execution_count": 17,
     "metadata": {},
     "output_type": "execute_result"
    }
   ],
   "source": [
    "US_M_Log['US (million)']=np.log10(US_M_Log['US (million)'])\n",
    "US_M_Log.head()"
   ]
  },
  {
   "cell_type": "code",
   "execution_count": 18,
   "metadata": {},
   "outputs": [
    {
     "data": {
      "text/plain": [
       "[<matplotlib.lines.Line2D at 0x1c0229f6470>]"
      ]
     },
     "execution_count": 18,
     "metadata": {},
     "output_type": "execute_result"
    },
    {
     "data": {
      "image/png": "[encoded data removed]",
      "text/plain": [
       "<Figure size 432x288 with 1 Axes>"
      ]
     },
     "metadata": {
      "needs_background": "light"
     },
     "output_type": "display_data"
    }
   ],
   "source": [
    "plt.plot(US_M_Log['US (million)'])"
   ]
  },
  {
   "cell_type": "code",
   "execution_count": 19,
   "metadata": {},
   "outputs": [
    {
     "data": {
      "text/html": [
       "<div>\n",
       "<style scoped>\n",
       "    .dataframe tbody tr th:only-of-type {\n",
       "        vertical-align: middle;\n",
       "    }\n",
       "\n",
       "    .dataframe tbody tr th {\n",
       "        vertical-align: top;\n",
       "    }\n",
       "\n",
       "    .dataframe thead th {\n",
       "        text-align: right;\n",
       "    }\n",
       "</style>\n",
       "<table border=\"1\" class=\"dataframe\">\n",
       "  <thead>\n",
       "    <tr style=\"text-align: right;\">\n",
       "      <th></th>\n",
       "      <th>ID</th>\n",
       "      <th>release month</th>\n",
       "      <th>USA</th>\n",
       "      <th>UK</th>\n",
       "      <th>Germany</th>\n",
       "      <th>France</th>\n",
       "      <th>other countries</th>\n",
       "      <th>English</th>\n",
       "      <th>French</th>\n",
       "      <th>Spanish</th>\n",
       "      <th>...</th>\n",
       "      <th>writer movie #</th>\n",
       "      <th>budget (million)</th>\n",
       "      <th>Opening US (million)</th>\n",
       "      <th>US (million)</th>\n",
       "      <th>rated_G</th>\n",
       "      <th>rated_NC-17</th>\n",
       "      <th>rated_Not Rated</th>\n",
       "      <th>rated_PG</th>\n",
       "      <th>rated_PG-13</th>\n",
       "      <th>rated_R</th>\n",
       "    </tr>\n",
       "  </thead>\n",
       "  <tbody>\n",
       "    <tr>\n",
       "      <th>1</th>\n",
       "      <td>1</td>\n",
       "      <td>10</td>\n",
       "      <td>1</td>\n",
       "      <td>0</td>\n",
       "      <td>0</td>\n",
       "      <td>0</td>\n",
       "      <td>0</td>\n",
       "      <td>1</td>\n",
       "      <td>0</td>\n",
       "      <td>1</td>\n",
       "      <td>...</td>\n",
       "      <td>0</td>\n",
       "      <td>15.0</td>\n",
       "      <td>0.000217</td>\n",
       "      <td>-3.510042</td>\n",
       "      <td>0</td>\n",
       "      <td>0</td>\n",
       "      <td>0</td>\n",
       "      <td>0</td>\n",
       "      <td>1</td>\n",
       "      <td>0</td>\n",
       "    </tr>\n",
       "  </tbody>\n",
       "</table>\n",
       "<p>1 rows × 44 columns</p>\n",
       "</div>"
      ],
      "text/plain": [
       "   ID  release month  USA  UK  Germany  France  other countries  English  \\\n",
       "1   1             10    1   0        0       0                0        1   \n",
       "\n",
       "   French  Spanish   ...     writer movie #  budget (million)  \\\n",
       "1       0        1   ...                  0              15.0   \n",
       "\n",
       "   Opening US (million)  US (million)  rated_G  rated_NC-17  rated_Not Rated  \\\n",
       "1              0.000217     -3.510042        0            0                0   \n",
       "\n",
       "   rated_PG  rated_PG-13  rated_R  \n",
       "1         0            1        0  \n",
       "\n",
       "[1 rows x 44 columns]"
      ]
     },
     "execution_count": 19,
     "metadata": {},
     "output_type": "execute_result"
    }
   ],
   "source": [
    "US_M_Log.iloc[[1]]"
   ]
  },
  {
   "cell_type": "markdown",
   "metadata": {},
   "source": [
    "## Build US model"
   ]
  },
  {
   "cell_type": "markdown",
   "metadata": {},
   "source": [
    "### Linear Regression"
   ]
  },
  {
   "cell_type": "code",
   "execution_count": 177,
   "metadata": {},
   "outputs": [
    {
     "name": "stderr",
     "output_type": "stream",
     "text": [
      "C:\\Users\\LZJ1995\\Anaconda3\\lib\\site-packages\\sklearn\\preprocessing\\data.py:323: DataConversionWarning: Data with input dtype uint8, int32, int64, float64 were all converted to float64 by MinMaxScaler.\n",
      "  return self.partial_fit(X, y)\n"
     ]
    },
    {
     "data": {
      "text/plain": [
       "array([[1.        , 1.        , 0.        , ..., 0.        , 0.        ,\n",
       "        1.        ],\n",
       "       [0.91666667, 1.        , 0.        , ..., 0.        , 0.        ,\n",
       "        1.        ],\n",
       "       [0.5       , 1.        , 0.        , ..., 0.        , 0.        ,\n",
       "        1.        ],\n",
       "       ...,\n",
       "       [0.25      , 1.        , 1.        , ..., 0.        , 0.        ,\n",
       "        1.        ],\n",
       "       [0.75      , 0.        , 0.        , ..., 0.        , 0.        ,\n",
       "        1.        ],\n",
       "       [0.75      , 1.        , 0.        , ..., 0.        , 1.        ,\n",
       "        0.        ]])"
      ]
     },
     "execution_count": 177,
     "metadata": {},
     "output_type": "execute_result"
    }
   ],
   "source": [
    "X=US_M_Log.drop(columns=['ID','Opening US (million)','US (million)'])\n",
    "y=US_M_Log['US (million)']\n",
    "\n",
    "\n",
    "X_train, X_test, y_train, y_test = train_test_split(X, y, test_size=0.2, random_state=42)\n",
    "\n",
    "scaler = preprocessing.MinMaxScaler()\n",
    "scaler.fit_transform(X_train)\n",
    "scaler.transform(X_test)"
   ]
  },
  {
   "cell_type": "code",
   "execution_count": 178,
   "metadata": {},
   "outputs": [
    {
     "name": "stdout",
     "output_type": "stream",
     "text": [
      "[-0.75116666 -0.76778976 -0.72944836 -0.64288191 -0.65758694 -0.65723712\n",
      " -0.63107105 -0.75966301 -0.67229598 -2.84357568 -0.72230358 -0.63785458\n",
      " -0.70449867 -0.63718394 -0.67064868]\n",
      "0.761463573190081\n",
      "0.5530515062415226\n"
     ]
    }
   ],
   "source": [
    "lr = LinearRegression(fit_intercept=False)\n",
    "lr.fit(X_train, y_train)\n",
    "\n",
    "\n",
    "cross_val_score_mean_sqr_err  = cross_val_score(lr, X_train, y_train, scoring ='neg_mean_squared_error', cv=15) \n",
    "print(cross_val_score_mean_sqr_err)\n",
    "\n",
    "y_pred=lr.predict(X_test)\n",
    "y_pred\n",
    "\n",
    "print(mean_squared_error(y_test,y_pred))\n",
    "print(r2_score(y_test,y_pred))"
   ]
  },
  {
   "cell_type": "code",
   "execution_count": 193,
   "metadata": {},
   "outputs": [
    {
     "data": {
      "text/html": [
       "<div>\n",
       "<style scoped>\n",
       "    .dataframe tbody tr th:only-of-type {\n",
       "        vertical-align: middle;\n",
       "    }\n",
       "\n",
       "    .dataframe tbody tr th {\n",
       "        vertical-align: top;\n",
       "    }\n",
       "\n",
       "    .dataframe thead th {\n",
       "        text-align: right;\n",
       "    }\n",
       "</style>\n",
       "<table border=\"1\" class=\"dataframe\">\n",
       "  <thead>\n",
       "    <tr style=\"text-align: right;\">\n",
       "      <th></th>\n",
       "      <th>ID</th>\n",
       "      <th>Predicted (million)</th>\n",
       "      <th>Actual (million)</th>\n",
       "    </tr>\n",
       "  </thead>\n",
       "  <tbody>\n",
       "    <tr>\n",
       "      <th>0</th>\n",
       "      <td>2550</td>\n",
       "      <td>3.496116</td>\n",
       "      <td>7.362100</td>\n",
       "    </tr>\n",
       "    <tr>\n",
       "      <th>1</th>\n",
       "      <td>5445</td>\n",
       "      <td>74.936416</td>\n",
       "      <td>132.092958</td>\n",
       "    </tr>\n",
       "    <tr>\n",
       "      <th>2</th>\n",
       "      <td>5518</td>\n",
       "      <td>19.456405</td>\n",
       "      <td>148.768917</td>\n",
       "    </tr>\n",
       "    <tr>\n",
       "      <th>3</th>\n",
       "      <td>1554</td>\n",
       "      <td>0.093734</td>\n",
       "      <td>0.925756</td>\n",
       "    </tr>\n",
       "    <tr>\n",
       "      <th>4</th>\n",
       "      <td>2600</td>\n",
       "      <td>1.665531</td>\n",
       "      <td>7.994115</td>\n",
       "    </tr>\n",
       "  </tbody>\n",
       "</table>\n",
       "</div>"
      ],
      "text/plain": [
       "     ID  Predicted (million)  Actual (million)\n",
       "0  2550             3.496116          7.362100\n",
       "1  5445            74.936416        132.092958\n",
       "2  5518            19.456405        148.768917\n",
       "3  1554             0.093734          0.925756\n",
       "4  2600             1.665531          7.994115"
      ]
     },
     "execution_count": 193,
     "metadata": {},
     "output_type": "execute_result"
    }
   ],
   "source": [
    "lrcompare=pd.DataFrame({'Predicted (million)':10**(y_pred),'Actual (million)':10**(y_test)}).reset_index().rename(columns={'index':'ID'})\n",
    "lrcompare.head()"
   ]
  },
  {
   "cell_type": "code",
   "execution_count": 199,
   "metadata": {},
   "outputs": [
    {
     "data": {
      "text/html": [
       "<div>\n",
       "<style scoped>\n",
       "    .dataframe tbody tr th:only-of-type {\n",
       "        vertical-align: middle;\n",
       "    }\n",
       "\n",
       "    .dataframe tbody tr th {\n",
       "        vertical-align: top;\n",
       "    }\n",
       "\n",
       "    .dataframe thead th {\n",
       "        text-align: right;\n",
       "    }\n",
       "</style>\n",
       "<table border=\"1\" class=\"dataframe\">\n",
       "  <thead>\n",
       "    <tr style=\"text-align: right;\">\n",
       "      <th></th>\n",
       "      <th>ID</th>\n",
       "      <th>movie</th>\n",
       "      <th>Predicted (million)</th>\n",
       "      <th>Actual (million)</th>\n",
       "      <th>Error (%)</th>\n",
       "    </tr>\n",
       "  </thead>\n",
       "  <tbody>\n",
       "    <tr>\n",
       "      <th>0</th>\n",
       "      <td>8</td>\n",
       "      <td>La prochaine fois je viserai le coeur</td>\n",
       "      <td>0.025403</td>\n",
       "      <td>0.000714</td>\n",
       "      <td>3457.884952</td>\n",
       "    </tr>\n",
       "    <tr>\n",
       "      <th>1</th>\n",
       "      <td>12</td>\n",
       "      <td>Strangers Online</td>\n",
       "      <td>0.346141</td>\n",
       "      <td>0.000968</td>\n",
       "      <td>35658.402564</td>\n",
       "    </tr>\n",
       "    <tr>\n",
       "      <th>2</th>\n",
       "      <td>14</td>\n",
       "      <td>Eastside</td>\n",
       "      <td>0.357998</td>\n",
       "      <td>0.001003</td>\n",
       "      <td>35592.698939</td>\n",
       "    </tr>\n",
       "    <tr>\n",
       "      <th>3</th>\n",
       "      <td>15</td>\n",
       "      <td>Daddy's Home</td>\n",
       "      <td>0.080505</td>\n",
       "      <td>0.001012</td>\n",
       "      <td>7855.085892</td>\n",
       "    </tr>\n",
       "    <tr>\n",
       "      <th>4</th>\n",
       "      <td>17</td>\n",
       "      <td>Flypaper</td>\n",
       "      <td>1.927793</td>\n",
       "      <td>0.001098</td>\n",
       "      <td>175473.112275</td>\n",
       "    </tr>\n",
       "    <tr>\n",
       "      <th>5</th>\n",
       "      <td>23</td>\n",
       "      <td>Exorcism</td>\n",
       "      <td>0.990624</td>\n",
       "      <td>0.001303</td>\n",
       "      <td>75926.432311</td>\n",
       "    </tr>\n",
       "    <tr>\n",
       "      <th>6</th>\n",
       "      <td>29</td>\n",
       "      <td>Terror Firmer</td>\n",
       "      <td>1.193562</td>\n",
       "      <td>0.001434</td>\n",
       "      <td>83133.088297</td>\n",
       "    </tr>\n",
       "    <tr>\n",
       "      <th>7</th>\n",
       "      <td>30</td>\n",
       "      <td>Eddie</td>\n",
       "      <td>0.084303</td>\n",
       "      <td>0.001521</td>\n",
       "      <td>5442.605734</td>\n",
       "    </tr>\n",
       "    <tr>\n",
       "      <th>8</th>\n",
       "      <td>33</td>\n",
       "      <td>Mr. Smith Gets a Hustler</td>\n",
       "      <td>0.445246</td>\n",
       "      <td>0.001583</td>\n",
       "      <td>28026.745573</td>\n",
       "    </tr>\n",
       "    <tr>\n",
       "      <th>9</th>\n",
       "      <td>37</td>\n",
       "      <td>The Samaritan</td>\n",
       "      <td>0.604428</td>\n",
       "      <td>0.001744</td>\n",
       "      <td>34557.551634</td>\n",
       "    </tr>\n",
       "  </tbody>\n",
       "</table>\n",
       "</div>"
      ],
      "text/plain": [
       "   ID                                  movie  Predicted (million)  \\\n",
       "0   8  La prochaine fois je viserai le coeur             0.025403   \n",
       "1  12                       Strangers Online             0.346141   \n",
       "2  14                               Eastside             0.357998   \n",
       "3  15                           Daddy's Home             0.080505   \n",
       "4  17                               Flypaper             1.927793   \n",
       "5  23                               Exorcism             0.990624   \n",
       "6  29                          Terror Firmer             1.193562   \n",
       "7  30                                  Eddie             0.084303   \n",
       "8  33               Mr. Smith Gets a Hustler             0.445246   \n",
       "9  37                          The Samaritan             0.604428   \n",
       "\n",
       "   Actual (million)      Error (%)  \n",
       "0          0.000714    3457.884952  \n",
       "1          0.000968   35658.402564  \n",
       "2          0.001003   35592.698939  \n",
       "3          0.001012    7855.085892  \n",
       "4          0.001098  175473.112275  \n",
       "5          0.001303   75926.432311  \n",
       "6          0.001434   83133.088297  \n",
       "7          0.001521    5442.605734  \n",
       "8          0.001583   28026.745573  \n",
       "9          0.001744   34557.551634  "
      ]
     },
     "execution_count": 199,
     "metadata": {},
     "output_type": "execute_result"
    }
   ],
   "source": [
    "LR_df=pd.merge(US_Movie,lrcompare,on='ID',how='right').drop(columns='US (million)')\n",
    "LR_df['Error (%)']=abs((LR_df['Actual (million)']-LR_df['Predicted (million)'])/LR_df['Actual (million)']*100)\n",
    "LR_df.head(10)"
   ]
  },
  {
   "cell_type": "code",
   "execution_count": 207,
   "metadata": {},
   "outputs": [
    {
     "data": {
      "image/png": "[encoded data removed]",
      "text/plain": [
       "<Figure size 648x432 with 1 Axes>"
      ]
     },
     "metadata": {
      "needs_background": "light"
     },
     "output_type": "display_data"
    }
   ],
   "source": [
    "plt.figure(figsize=(9,6));\n",
    "plt.plot(LR_df['Actual (million)'],'.',c = 'red', label = \"Actual\");\n",
    "plt.plot(LR_df['Predicted (million)'], c = 'green', label = \"Prediction\");\n",
    "plt.legend([\"Actual (million)\", \"Predicted (million)\"],fontsize = 14);\n",
    "plt.ylabel('Prediction (Million)', fontsize = 14);\n",
    "plt.ylim(0,max(LR_df['Actual (million)']));"
   ]
  },
  {
   "cell_type": "code",
   "execution_count": 202,
   "metadata": {},
   "outputs": [
    {
     "data": {
      "image/png": "[encoded data removed]",
      "text/plain": [
       "<Figure size 648x432 with 1 Axes>"
      ]
     },
     "metadata": {
      "needs_background": "light"
     },
     "output_type": "display_data"
    }
   ],
   "source": [
    "plt.figure(figsize=(9,6));\n",
    "LR_df['Error (%)'].hist(range=(1,1000),bins=200);\n",
    "plt.xlabel('Error (%)',size=12);\n",
    "plt.ylabel('# of movies',size=12);"
   ]
  },
  {
   "cell_type": "code",
   "execution_count": 203,
   "metadata": {},
   "outputs": [
    {
     "name": "stdout",
     "output_type": "stream",
     "text": [
      "[-9.49250368e-03  5.67256353e-01 -1.64487360e-01  2.03809745e-02\n",
      " -5.74800945e-02  7.76724725e-02  1.25925148e-01  6.66707896e-02\n",
      "  6.45791655e-02  3.22049847e-02  3.03832028e-01  5.77735061e-02\n",
      " -1.52660657e-01  1.01474830e-01  1.80659549e-01 -5.77906221e-02\n",
      "  9.25973911e-02  4.68832099e-04  6.83371942e-02  2.02422788e-03\n",
      "  5.16864130e-08  4.23906633e-04  1.90158470e-03  1.18704201e-01\n",
      " -1.97623035e-03  1.13361253e-03  2.38581962e-03  1.42652489e-03\n",
      "  4.16833201e-01 -2.15251352e-03 -6.11725138e-03  4.27322276e-01\n",
      " -2.36851072e-03 -9.81276530e-03  6.32302660e-03 -5.69316547e-01\n",
      " -1.29546033e+00 -2.03906771e+00 -7.37625331e-01 -9.63630239e-01\n",
      " -1.36331350e+00]\n",
      "0.0\n"
     ]
    }
   ],
   "source": [
    "print(lr.coef_)\n",
    "print(lr.intercept_)"
   ]
  },
  {
   "cell_type": "code",
   "execution_count": 204,
   "metadata": {},
   "outputs": [
    {
     "data": {
      "text/html": [
       "<div>\n",
       "<style scoped>\n",
       "    .dataframe tbody tr th:only-of-type {\n",
       "        vertical-align: middle;\n",
       "    }\n",
       "\n",
       "    .dataframe tbody tr th {\n",
       "        vertical-align: top;\n",
       "    }\n",
       "\n",
       "    .dataframe thead th {\n",
       "        text-align: right;\n",
       "    }\n",
       "</style>\n",
       "<table border=\"1\" class=\"dataframe\">\n",
       "  <thead>\n",
       "    <tr style=\"text-align: right;\">\n",
       "      <th></th>\n",
       "      <th>features</th>\n",
       "      <th>coefficient</th>\n",
       "    </tr>\n",
       "  </thead>\n",
       "  <tbody>\n",
       "    <tr>\n",
       "      <th>1</th>\n",
       "      <td>USA</td>\n",
       "      <td>0.567256</td>\n",
       "    </tr>\n",
       "    <tr>\n",
       "      <th>31</th>\n",
       "      <td>writer match #</td>\n",
       "      <td>0.427322</td>\n",
       "    </tr>\n",
       "    <tr>\n",
       "      <th>28</th>\n",
       "      <td>director match #</td>\n",
       "      <td>0.416833</td>\n",
       "    </tr>\n",
       "    <tr>\n",
       "      <th>10</th>\n",
       "      <td>other languages</td>\n",
       "      <td>0.303832</td>\n",
       "    </tr>\n",
       "    <tr>\n",
       "      <th>14</th>\n",
       "      <td>Comedy</td>\n",
       "      <td>0.180660</td>\n",
       "    </tr>\n",
       "  </tbody>\n",
       "</table>\n",
       "</div>"
      ],
      "text/plain": [
       "            features  coefficient\n",
       "1                USA     0.567256\n",
       "31    writer match #     0.427322\n",
       "28  director match #     0.416833\n",
       "10   other languages     0.303832\n",
       "14            Comedy     0.180660"
      ]
     },
     "execution_count": 204,
     "metadata": {},
     "output_type": "execute_result"
    }
   ],
   "source": [
    "pd.DataFrame(list(zip(X.columns, lr.coef_)),columns=['features','coefficient']).sort_values(by='coefficient',ascending=False).head()"
   ]
  },
  {
   "cell_type": "code",
   "execution_count": 205,
   "metadata": {},
   "outputs": [
    {
     "data": {
      "image/png": "[encoded data removed]",
      "text/plain": [
       "<Figure size 648x432 with 1 Axes>"
      ]
     },
     "metadata": {
      "needs_background": "light"
     },
     "output_type": "display_data"
    }
   ],
   "source": [
    "pd.Series(data=lr.coef_, index=X.columns).nlargest(10).plot(kind='barh',figsize=(9,6));"
   ]
  },
  {
   "cell_type": "markdown",
   "metadata": {},
   "source": [
    "### Ridge Regression"
   ]
  },
  {
   "cell_type": "code",
   "execution_count": 217,
   "metadata": {},
   "outputs": [
    {
     "name": "stdout",
     "output_type": "stream",
     "text": [
      "0.8422800458348293\n",
      "0.5056154869870246\n"
     ]
    }
   ],
   "source": [
    "r = Ridge(normalize=True)\n",
    "r.fit(X_train, y_train)\n",
    "\n",
    "\n",
    "y_pred=r.predict(X_test)\n",
    "y_pred\n",
    "\n",
    "print(mean_squared_error(y_test,y_pred))\n",
    "print(r2_score(y_test,y_pred))"
   ]
  },
  {
   "cell_type": "code",
   "execution_count": 218,
   "metadata": {},
   "outputs": [
    {
     "data": {
      "text/html": [
       "<div>\n",
       "<style scoped>\n",
       "    .dataframe tbody tr th:only-of-type {\n",
       "        vertical-align: middle;\n",
       "    }\n",
       "\n",
       "    .dataframe tbody tr th {\n",
       "        vertical-align: top;\n",
       "    }\n",
       "\n",
       "    .dataframe thead th {\n",
       "        text-align: right;\n",
       "    }\n",
       "</style>\n",
       "<table border=\"1\" class=\"dataframe\">\n",
       "  <thead>\n",
       "    <tr style=\"text-align: right;\">\n",
       "      <th></th>\n",
       "      <th>ID</th>\n",
       "      <th>Predicted (million)</th>\n",
       "      <th>Actual (million)</th>\n",
       "    </tr>\n",
       "  </thead>\n",
       "  <tbody>\n",
       "    <tr>\n",
       "      <th>0</th>\n",
       "      <td>2550</td>\n",
       "      <td>3.675075</td>\n",
       "      <td>7.362100</td>\n",
       "    </tr>\n",
       "    <tr>\n",
       "      <th>1</th>\n",
       "      <td>5445</td>\n",
       "      <td>60.524413</td>\n",
       "      <td>132.092958</td>\n",
       "    </tr>\n",
       "    <tr>\n",
       "      <th>2</th>\n",
       "      <td>5518</td>\n",
       "      <td>40.226416</td>\n",
       "      <td>148.768917</td>\n",
       "    </tr>\n",
       "    <tr>\n",
       "      <th>3</th>\n",
       "      <td>1554</td>\n",
       "      <td>0.376669</td>\n",
       "      <td>0.925756</td>\n",
       "    </tr>\n",
       "    <tr>\n",
       "      <th>4</th>\n",
       "      <td>2600</td>\n",
       "      <td>2.081548</td>\n",
       "      <td>7.994115</td>\n",
       "    </tr>\n",
       "  </tbody>\n",
       "</table>\n",
       "</div>"
      ],
      "text/plain": [
       "     ID  Predicted (million)  Actual (million)\n",
       "0  2550             3.675075          7.362100\n",
       "1  5445            60.524413        132.092958\n",
       "2  5518            40.226416        148.768917\n",
       "3  1554             0.376669          0.925756\n",
       "4  2600             2.081548          7.994115"
      ]
     },
     "execution_count": 218,
     "metadata": {},
     "output_type": "execute_result"
    }
   ],
   "source": [
    "Ridgecompare=pd.DataFrame({'Predicted (million)':10**(y_pred),'Actual (million)':10**(y_test)}).reset_index().rename(columns={'index':'ID'})\n",
    "Ridgecompare.head()"
   ]
  },
  {
   "cell_type": "code",
   "execution_count": 219,
   "metadata": {},
   "outputs": [
    {
     "data": {
      "text/html": [
       "<div>\n",
       "<style scoped>\n",
       "    .dataframe tbody tr th:only-of-type {\n",
       "        vertical-align: middle;\n",
       "    }\n",
       "\n",
       "    .dataframe tbody tr th {\n",
       "        vertical-align: top;\n",
       "    }\n",
       "\n",
       "    .dataframe thead th {\n",
       "        text-align: right;\n",
       "    }\n",
       "</style>\n",
       "<table border=\"1\" class=\"dataframe\">\n",
       "  <thead>\n",
       "    <tr style=\"text-align: right;\">\n",
       "      <th></th>\n",
       "      <th>ID</th>\n",
       "      <th>movie</th>\n",
       "      <th>US (million)</th>\n",
       "      <th>Predicted (million)</th>\n",
       "      <th>Actual (million)</th>\n",
       "      <th>Error (%)</th>\n",
       "    </tr>\n",
       "  </thead>\n",
       "  <tbody>\n",
       "    <tr>\n",
       "      <th>1054</th>\n",
       "      <td>5300</td>\n",
       "      <td>Watchmen</td>\n",
       "      <td>107.509799</td>\n",
       "      <td>107.333892</td>\n",
       "      <td>107.509799</td>\n",
       "      <td>0.163619</td>\n",
       "    </tr>\n",
       "    <tr>\n",
       "      <th>261</th>\n",
       "      <td>1212</td>\n",
       "      <td>Chico &amp; Rita</td>\n",
       "      <td>0.350524</td>\n",
       "      <td>0.351137</td>\n",
       "      <td>0.350524</td>\n",
       "      <td>0.174946</td>\n",
       "    </tr>\n",
       "    <tr>\n",
       "      <th>335</th>\n",
       "      <td>1599</td>\n",
       "      <td>Another Day in Paradise</td>\n",
       "      <td>1.025234</td>\n",
       "      <td>1.027454</td>\n",
       "      <td>1.025234</td>\n",
       "      <td>0.216532</td>\n",
       "    </tr>\n",
       "    <tr>\n",
       "      <th>559</th>\n",
       "      <td>2721</td>\n",
       "      <td>Duplex</td>\n",
       "      <td>9.692135</td>\n",
       "      <td>9.735278</td>\n",
       "      <td>9.692135</td>\n",
       "      <td>0.445137</td>\n",
       "    </tr>\n",
       "    <tr>\n",
       "      <th>866</th>\n",
       "      <td>4267</td>\n",
       "      <td>Valerian and the City of a Thousand Planets</td>\n",
       "      <td>41.189488</td>\n",
       "      <td>40.885397</td>\n",
       "      <td>41.189488</td>\n",
       "      <td>0.738273</td>\n",
       "    </tr>\n",
       "  </tbody>\n",
       "</table>\n",
       "</div>"
      ],
      "text/plain": [
       "        ID                                        movie  US (million)  \\\n",
       "1054  5300                                     Watchmen    107.509799   \n",
       "261   1212                                 Chico & Rita      0.350524   \n",
       "335   1599                      Another Day in Paradise      1.025234   \n",
       "559   2721                                       Duplex      9.692135   \n",
       "866   4267  Valerian and the City of a Thousand Planets     41.189488   \n",
       "\n",
       "      Predicted (million)  Actual (million)  Error (%)  \n",
       "1054           107.333892        107.509799   0.163619  \n",
       "261              0.351137          0.350524   0.174946  \n",
       "335              1.027454          1.025234   0.216532  \n",
       "559              9.735278          9.692135   0.445137  \n",
       "866             40.885397         41.189488   0.738273  "
      ]
     },
     "execution_count": 219,
     "metadata": {},
     "output_type": "execute_result"
    }
   ],
   "source": [
    "Ridge_df=pd.merge(US_Movie,Ridgecompare,on='ID',how='right')\n",
    "Ridge_df['Error (%)']=abs(((Ridge_df['Actual (million)']-Ridge_df['Predicted (million)'])/Ridge_df['Actual (million)'])*100)\n",
    "Ridge_df.sort_values(by='Error (%)',ascending=True).head()"
   ]
  },
  {
   "cell_type": "code",
   "execution_count": 220,
   "metadata": {},
   "outputs": [
    {
     "data": {
      "image/png": "[encoded data removed]",
      "text/plain": [
       "<Figure size 1152x1008 with 1 Axes>"
      ]
     },
     "metadata": {
      "needs_background": "light"
     },
     "output_type": "display_data"
    }
   ],
   "source": [
    "plt.figure(figsize=(16,14));\n",
    "plt.plot(Ridge_df['Actual (million)'],'.', c = 'red', label = \"Actual\");\n",
    "plt.plot(Ridge_df['Predicted (million)'], c = 'green', label = \"Prediction\");\n",
    "plt.legend([\"Actual (million)\", \"Predicted (million)\"],fontsize = 12)\n",
    "plt.ylabel('Prediction (Million)', fontsize = 12);\n",
    "plt.ylim(0,max(Ridge_df['Actual (million)']));"
   ]
  },
  {
   "cell_type": "code",
   "execution_count": 221,
   "metadata": {
    "scrolled": false
   },
   "outputs": [
    {
     "data": {
      "image/png": "[encoded data removed]",
      "text/plain": [
       "<Figure size 648x432 with 1 Axes>"
      ]
     },
     "metadata": {
      "needs_background": "light"
     },
     "output_type": "display_data"
    }
   ],
   "source": [
    "plt.figure(figsize=(9,6))\n",
    "Ridge_df['Error (%)'].hist(range=(0,1000),bins=200);\n",
    "plt.xlabel('Error (%)',size=12);\n",
    "plt.ylabel('# of movies',size=12);"
   ]
  },
  {
   "cell_type": "markdown",
   "metadata": {},
   "source": [
    "### Poly Regression"
   ]
  },
  {
   "cell_type": "code",
   "execution_count": 20,
   "metadata": {},
   "outputs": [
    {
     "name": "stderr",
     "output_type": "stream",
     "text": [
      "C:\\Users\\LZJ1995\\Anaconda3\\lib\\site-packages\\sklearn\\preprocessing\\data.py:323: DataConversionWarning: Data with input dtype uint8, int32, int64, float64 were all converted to float64 by MinMaxScaler.\n",
      "  return self.partial_fit(X, y)\n"
     ]
    },
    {
     "data": {
      "text/plain": [
       "array([[1.        , 1.        , 0.        , ..., 0.        , 0.        ,\n",
       "        1.        ],\n",
       "       [0.91666667, 1.        , 0.        , ..., 0.        , 0.        ,\n",
       "        1.        ],\n",
       "       [0.5       , 1.        , 0.        , ..., 0.        , 0.        ,\n",
       "        1.        ],\n",
       "       ...,\n",
       "       [0.25      , 1.        , 1.        , ..., 0.        , 0.        ,\n",
       "        1.        ],\n",
       "       [0.75      , 0.        , 0.        , ..., 0.        , 0.        ,\n",
       "        1.        ],\n",
       "       [0.75      , 1.        , 0.        , ..., 0.        , 1.        ,\n",
       "        0.        ]])"
      ]
     },
     "execution_count": 20,
     "metadata": {},
     "output_type": "execute_result"
    }
   ],
   "source": [
    "X=US_M_Log.drop(columns=['ID','Opening US (million)','US (million)'])\n",
    "y=US_M_Log['US (million)']\n",
    "\n",
    "\n",
    "X_train, X_test, y_train, y_test = train_test_split(X, y, test_size=0.2, random_state=42)\n",
    "\n",
    "scaler = preprocessing.MinMaxScaler()\n",
    "scaler.fit_transform(X_train)\n",
    "scaler.transform(X_test)"
   ]
  },
  {
   "cell_type": "code",
   "execution_count": 21,
   "metadata": {},
   "outputs": [
    {
     "name": "stdout",
     "output_type": "stream",
     "text": [
      "0.6978375303990282\n",
      "0.5903974345176932\n"
     ]
    }
   ],
   "source": [
    "poly = PolynomialFeatures()\n",
    "X_train_poly = poly.fit_transform(X_train)\n",
    "X_test_poly = poly.transform(X_test)\n",
    "\n",
    "\n",
    "PR = LinearRegression()\n",
    "PR.fit(X_train_poly, y_train)\n",
    "\n",
    "y_pred=PR.predict(X_test_poly)\n",
    "\n",
    "print(mean_squared_error(y_test,y_pred))\n",
    "print(r2_score(y_test,y_pred))"
   ]
  },
  {
   "cell_type": "code",
   "execution_count": 22,
   "metadata": {},
   "outputs": [
    {
     "data": {
      "text/html": [
       "<div>\n",
       "<style scoped>\n",
       "    .dataframe tbody tr th:only-of-type {\n",
       "        vertical-align: middle;\n",
       "    }\n",
       "\n",
       "    .dataframe tbody tr th {\n",
       "        vertical-align: top;\n",
       "    }\n",
       "\n",
       "    .dataframe thead th {\n",
       "        text-align: right;\n",
       "    }\n",
       "</style>\n",
       "<table border=\"1\" class=\"dataframe\">\n",
       "  <thead>\n",
       "    <tr style=\"text-align: right;\">\n",
       "      <th></th>\n",
       "      <th>ID</th>\n",
       "      <th>Predicted (million)</th>\n",
       "      <th>Actual (million)</th>\n",
       "    </tr>\n",
       "  </thead>\n",
       "  <tbody>\n",
       "    <tr>\n",
       "      <th>1162</th>\n",
       "      <td>2177</td>\n",
       "      <td>3.862662</td>\n",
       "      <td>3.950294</td>\n",
       "    </tr>\n",
       "    <tr>\n",
       "      <th>1163</th>\n",
       "      <td>4885</td>\n",
       "      <td>8.647031</td>\n",
       "      <td>67.823573</td>\n",
       "    </tr>\n",
       "    <tr>\n",
       "      <th>1164</th>\n",
       "      <td>3013</td>\n",
       "      <td>0.608395</td>\n",
       "      <td>13.876974</td>\n",
       "    </tr>\n",
       "    <tr>\n",
       "      <th>1165</th>\n",
       "      <td>1173</td>\n",
       "      <td>0.429462</td>\n",
       "      <td>0.317594</td>\n",
       "    </tr>\n",
       "    <tr>\n",
       "      <th>1166</th>\n",
       "      <td>5176</td>\n",
       "      <td>32.911710</td>\n",
       "      <td>93.432655</td>\n",
       "    </tr>\n",
       "  </tbody>\n",
       "</table>\n",
       "</div>"
      ],
      "text/plain": [
       "        ID  Predicted (million)  Actual (million)\n",
       "1162  2177             3.862662          3.950294\n",
       "1163  4885             8.647031         67.823573\n",
       "1164  3013             0.608395         13.876974\n",
       "1165  1173             0.429462          0.317594\n",
       "1166  5176            32.911710         93.432655"
      ]
     },
     "execution_count": 22,
     "metadata": {},
     "output_type": "execute_result"
    }
   ],
   "source": [
    "PRcompare=pd.DataFrame({'Predicted (million)':10**(y_pred),'Actual (million)':10**(y_test)}).reset_index().rename(columns={'index':'ID'})\n",
    "PRcompare.tail()"
   ]
  },
  {
   "cell_type": "code",
   "execution_count": 23,
   "metadata": {},
   "outputs": [
    {
     "data": {
      "text/html": [
       "<div>\n",
       "<style scoped>\n",
       "    .dataframe tbody tr th:only-of-type {\n",
       "        vertical-align: middle;\n",
       "    }\n",
       "\n",
       "    .dataframe tbody tr th {\n",
       "        vertical-align: top;\n",
       "    }\n",
       "\n",
       "    .dataframe thead th {\n",
       "        text-align: right;\n",
       "    }\n",
       "</style>\n",
       "<table border=\"1\" class=\"dataframe\">\n",
       "  <thead>\n",
       "    <tr style=\"text-align: right;\">\n",
       "      <th></th>\n",
       "      <th>ID</th>\n",
       "      <th>Predicted (log)</th>\n",
       "      <th>Actual (log)</th>\n",
       "    </tr>\n",
       "  </thead>\n",
       "  <tbody>\n",
       "    <tr>\n",
       "      <th>1162</th>\n",
       "      <td>5818</td>\n",
       "      <td>1.852976</td>\n",
       "      <td>2.639955</td>\n",
       "    </tr>\n",
       "    <tr>\n",
       "      <th>1163</th>\n",
       "      <td>5825</td>\n",
       "      <td>0.939262</td>\n",
       "      <td>2.728239</td>\n",
       "    </tr>\n",
       "    <tr>\n",
       "      <th>1164</th>\n",
       "      <td>5826</td>\n",
       "      <td>1.945390</td>\n",
       "      <td>2.784319</td>\n",
       "    </tr>\n",
       "    <tr>\n",
       "      <th>1165</th>\n",
       "      <td>5828</td>\n",
       "      <td>5.182329</td>\n",
       "      <td>2.814428</td>\n",
       "    </tr>\n",
       "    <tr>\n",
       "      <th>1166</th>\n",
       "      <td>5829</td>\n",
       "      <td>2.863684</td>\n",
       "      <td>2.819100</td>\n",
       "    </tr>\n",
       "  </tbody>\n",
       "</table>\n",
       "</div>"
      ],
      "text/plain": [
       "        ID  Predicted (log)  Actual (log)\n",
       "1162  5818         1.852976      2.639955\n",
       "1163  5825         0.939262      2.728239\n",
       "1164  5826         1.945390      2.784319\n",
       "1165  5828         5.182329      2.814428\n",
       "1166  5829         2.863684      2.819100"
      ]
     },
     "execution_count": 23,
     "metadata": {},
     "output_type": "execute_result"
    }
   ],
   "source": [
    "PRcompare1=pd.DataFrame({'Predicted (log)':y_pred,'Actual (log)':y_test}).sort_values(by='Actual (log)',ascending=True).reset_index().rename(columns={'index':'ID'})\n",
    "PRcompare1.tail()"
   ]
  },
  {
   "cell_type": "code",
   "execution_count": 26,
   "metadata": {},
   "outputs": [
    {
     "data": {
      "image/png": "[encoded data removed]",
      "text/plain": [
       "<Figure size 432x288 with 1 Axes>"
      ]
     },
     "metadata": {
      "needs_background": "light"
     },
     "output_type": "display_data"
    }
   ],
   "source": [
    "plt.plot(PRcompare1['Actual (log)'], '.',c = 'red', label = \"Actual\");\n",
    "plt.plot(PRcompare1['Predicted (log)'], c = 'green', label = \"Prediction\");\n",
    "plt.legend([\"Actual (log)\", \"Predicted (log)\"],fontsize = 12);"
   ]
  },
  {
   "cell_type": "code",
   "execution_count": 27,
   "metadata": {},
   "outputs": [
    {
     "data": {
      "text/plain": [
       "1167"
      ]
     },
     "execution_count": 27,
     "metadata": {},
     "output_type": "execute_result"
    }
   ],
   "source": [
    "len(PRcompare)"
   ]
  },
  {
   "cell_type": "code",
   "execution_count": 28,
   "metadata": {},
   "outputs": [
    {
     "data": {
      "text/html": [
       "<div>\n",
       "<style scoped>\n",
       "    .dataframe tbody tr th:only-of-type {\n",
       "        vertical-align: middle;\n",
       "    }\n",
       "\n",
       "    .dataframe tbody tr th {\n",
       "        vertical-align: top;\n",
       "    }\n",
       "\n",
       "    .dataframe thead th {\n",
       "        text-align: right;\n",
       "    }\n",
       "</style>\n",
       "<table border=\"1\" class=\"dataframe\">\n",
       "  <thead>\n",
       "    <tr style=\"text-align: right;\">\n",
       "      <th></th>\n",
       "      <th>ID</th>\n",
       "      <th>movie</th>\n",
       "      <th>US (million)</th>\n",
       "      <th>Predicted (million)</th>\n",
       "      <th>Actual (million)</th>\n",
       "      <th>Error (%)</th>\n",
       "    </tr>\n",
       "  </thead>\n",
       "  <tbody>\n",
       "    <tr>\n",
       "      <th>890</th>\n",
       "      <td>4378</td>\n",
       "      <td>The Man from U.N.C.L.E.</td>\n",
       "      <td>45.445109</td>\n",
       "      <td>45.554732</td>\n",
       "      <td>45.445109</td>\n",
       "      <td>0.241221</td>\n",
       "    </tr>\n",
       "    <tr>\n",
       "      <th>387</th>\n",
       "      <td>1867</td>\n",
       "      <td>I Love You Phillip Morris</td>\n",
       "      <td>2.035566</td>\n",
       "      <td>2.040593</td>\n",
       "      <td>2.035566</td>\n",
       "      <td>0.246948</td>\n",
       "    </tr>\n",
       "    <tr>\n",
       "      <th>159</th>\n",
       "      <td>730</td>\n",
       "      <td>The Nile Hilton Incident</td>\n",
       "      <td>0.081089</td>\n",
       "      <td>0.081570</td>\n",
       "      <td>0.081089</td>\n",
       "      <td>0.593646</td>\n",
       "    </tr>\n",
       "    <tr>\n",
       "      <th>297</th>\n",
       "      <td>1419</td>\n",
       "      <td>Fiza</td>\n",
       "      <td>0.623791</td>\n",
       "      <td>0.628545</td>\n",
       "      <td>0.623791</td>\n",
       "      <td>0.762157</td>\n",
       "    </tr>\n",
       "    <tr>\n",
       "      <th>412</th>\n",
       "      <td>1973</td>\n",
       "      <td>Pieces of April</td>\n",
       "      <td>2.528664</td>\n",
       "      <td>2.548939</td>\n",
       "      <td>2.528664</td>\n",
       "      <td>0.801804</td>\n",
       "    </tr>\n",
       "  </tbody>\n",
       "</table>\n",
       "</div>"
      ],
      "text/plain": [
       "       ID                      movie  US (million)  Predicted (million)  \\\n",
       "890  4378    The Man from U.N.C.L.E.     45.445109            45.554732   \n",
       "387  1867  I Love You Phillip Morris      2.035566             2.040593   \n",
       "159   730   The Nile Hilton Incident      0.081089             0.081570   \n",
       "297  1419                       Fiza      0.623791             0.628545   \n",
       "412  1973            Pieces of April      2.528664             2.548939   \n",
       "\n",
       "     Actual (million)  Error (%)  \n",
       "890         45.445109   0.241221  \n",
       "387          2.035566   0.246948  \n",
       "159          0.081089   0.593646  \n",
       "297          0.623791   0.762157  \n",
       "412          2.528664   0.801804  "
      ]
     },
     "execution_count": 28,
     "metadata": {},
     "output_type": "execute_result"
    }
   ],
   "source": [
    "PR_df=pd.merge(US_Movie,PRcompare,on='ID',how='right')\n",
    "PR_df['Error (%)']=abs(((PR_df['Actual (million)']-PR_df['Predicted (million)'])/PR_df['Actual (million)'])*100)\n",
    "PR_df.sort_values(by='Error (%)',ascending=True).head()"
   ]
  },
  {
   "cell_type": "code",
   "execution_count": 29,
   "metadata": {},
   "outputs": [
    {
     "data": {
      "image/png": "[encoded data removed]",
      "text/plain": [
       "<Figure size 648x504 with 1 Axes>"
      ]
     },
     "metadata": {
      "needs_background": "light"
     },
     "output_type": "display_data"
    }
   ],
   "source": [
    "plt.figure(figsize=(9,7));\n",
    "plt.plot(PR_df['Actual (million)'], c = 'red', label = \"Actual\");\n",
    "plt.plot(PR_df['Predicted (million)'], c = 'green', label = \"Prediction\");\n",
    "plt.legend([\"Actual (million)\", \"Predicted (million)\"],fontsize = 12)\n",
    "plt.ylabel('Prediction (Million)', fontsize = 12);\n",
    "plt.ylim(0,max(PR_df['Actual (million)']));"
   ]
  },
  {
   "cell_type": "code",
   "execution_count": 255,
   "metadata": {
    "scrolled": true
   },
   "outputs": [
    {
     "data": {
      "image/png": "[encoded data removed]",
      "text/plain": [
       "<Figure size 648x432 with 1 Axes>"
      ]
     },
     "metadata": {
      "needs_background": "light"
     },
     "output_type": "display_data"
    }
   ],
   "source": [
    "plt.figure(figsize=(9,6))\n",
    "PR_df['Error (%)'].hist(range=(0,1000),bins=200);\n",
    "plt.xlabel('Error (%)',size=12);\n",
    "plt.ylabel('# of movies',size=12);"
   ]
  },
  {
   "cell_type": "markdown",
   "metadata": {},
   "source": [
    "### Gradient Boost Regressor"
   ]
  },
  {
   "cell_type": "code",
   "execution_count": 112,
   "metadata": {},
   "outputs": [
    {
     "name": "stderr",
     "output_type": "stream",
     "text": [
      "C:\\Users\\LZJ1995\\Anaconda3\\lib\\site-packages\\sklearn\\preprocessing\\data.py:323: DataConversionWarning: Data with input dtype uint8, int32, int64, float64 were all converted to float64 by MinMaxScaler.\n",
      "  return self.partial_fit(X, y)\n"
     ]
    },
    {
     "name": "stdout",
     "output_type": "stream",
     "text": [
      "0.8278167643997525\n",
      "0.5141048515210768\n",
      "0.5141048515210768\n"
     ]
    }
   ],
   "source": [
    "X=US_M_Log.drop(columns=['ID','Opening US (million)','US (million)'])\n",
    "y=US_M_Log['US (million)']\n",
    "\n",
    "X_train, X_test, y_train, y_test = train_test_split(X, y, test_size=0.2, random_state=42)\n",
    "\n",
    "scaler = preprocessing.MinMaxScaler()\n",
    "scaler.fit_transform(X_train)\n",
    "scaler.transform(X_test)\n",
    "\n",
    "GB = GradientBoostingRegressor(learning_rate=0.1, max_depth=30,random_state=20)\n",
    "GB.fit(X_train, y_train)\n",
    "\n",
    "\n",
    "y_pred=GB.predict(X_test)\n",
    "y_pred\n",
    "\n",
    "print(mean_squared_error(y_test,y_pred))\n",
    "print(r2_score(y_test,y_pred))\n",
    "print(GB.score(X_test,y_test))"
   ]
  },
  {
   "cell_type": "code",
   "execution_count": 97,
   "metadata": {},
   "outputs": [
    {
     "data": {
      "image/png": "[encoded data removed]",
      "text/plain": [
       "<Figure size 648x504 with 1 Axes>"
      ]
     },
     "metadata": {
      "needs_background": "light"
     },
     "output_type": "display_data"
    }
   ],
   "source": [
    "pd.Series(GB.feature_importances_, index=X.columns).nlargest(15).plot(kind='barh',figsize=(9,7));"
   ]
  },
  {
   "cell_type": "code",
   "execution_count": 98,
   "metadata": {},
   "outputs": [
    {
     "data": {
      "text/html": [
       "<div>\n",
       "<style scoped>\n",
       "    .dataframe tbody tr th:only-of-type {\n",
       "        vertical-align: middle;\n",
       "    }\n",
       "\n",
       "    .dataframe tbody tr th {\n",
       "        vertical-align: top;\n",
       "    }\n",
       "\n",
       "    .dataframe thead th {\n",
       "        text-align: right;\n",
       "    }\n",
       "</style>\n",
       "<table border=\"1\" class=\"dataframe\">\n",
       "  <thead>\n",
       "    <tr style=\"text-align: right;\">\n",
       "      <th></th>\n",
       "      <th>ID</th>\n",
       "      <th>Actual (million)</th>\n",
       "      <th>Predicted (million)</th>\n",
       "    </tr>\n",
       "  </thead>\n",
       "  <tbody>\n",
       "    <tr>\n",
       "      <th>0</th>\n",
       "      <td>2550</td>\n",
       "      <td>7.362100</td>\n",
       "      <td>5.661647</td>\n",
       "    </tr>\n",
       "    <tr>\n",
       "      <th>1</th>\n",
       "      <td>5445</td>\n",
       "      <td>132.092958</td>\n",
       "      <td>76.122935</td>\n",
       "    </tr>\n",
       "    <tr>\n",
       "      <th>2</th>\n",
       "      <td>5518</td>\n",
       "      <td>148.768917</td>\n",
       "      <td>87.001360</td>\n",
       "    </tr>\n",
       "    <tr>\n",
       "      <th>3</th>\n",
       "      <td>1554</td>\n",
       "      <td>0.925756</td>\n",
       "      <td>0.125105</td>\n",
       "    </tr>\n",
       "    <tr>\n",
       "      <th>4</th>\n",
       "      <td>2600</td>\n",
       "      <td>7.994115</td>\n",
       "      <td>7.663941</td>\n",
       "    </tr>\n",
       "  </tbody>\n",
       "</table>\n",
       "</div>"
      ],
      "text/plain": [
       "     ID  Actual (million)  Predicted (million)\n",
       "0  2550          7.362100             5.661647\n",
       "1  5445        132.092958            76.122935\n",
       "2  5518        148.768917            87.001360\n",
       "3  1554          0.925756             0.125105\n",
       "4  2600          7.994115             7.663941"
      ]
     },
     "execution_count": 98,
     "metadata": {},
     "output_type": "execute_result"
    }
   ],
   "source": [
    "GBcompare=pd.DataFrame({'Actual (million)':10**(y_test),'Predicted (million)':10**(y_pred)}).reset_index().rename(columns={'index':'ID'})\n",
    "GBcompare.head()"
   ]
  },
  {
   "cell_type": "code",
   "execution_count": 99,
   "metadata": {},
   "outputs": [
    {
     "data": {
      "text/html": [
       "<div>\n",
       "<style scoped>\n",
       "    .dataframe tbody tr th:only-of-type {\n",
       "        vertical-align: middle;\n",
       "    }\n",
       "\n",
       "    .dataframe tbody tr th {\n",
       "        vertical-align: top;\n",
       "    }\n",
       "\n",
       "    .dataframe thead th {\n",
       "        text-align: right;\n",
       "    }\n",
       "</style>\n",
       "<table border=\"1\" class=\"dataframe\">\n",
       "  <thead>\n",
       "    <tr style=\"text-align: right;\">\n",
       "      <th></th>\n",
       "      <th>ID</th>\n",
       "      <th>Predicted (log)</th>\n",
       "      <th>Actual (log)</th>\n",
       "    </tr>\n",
       "  </thead>\n",
       "  <tbody>\n",
       "    <tr>\n",
       "      <th>1162</th>\n",
       "      <td>5818</td>\n",
       "      <td>2.422508</td>\n",
       "      <td>2.639955</td>\n",
       "    </tr>\n",
       "    <tr>\n",
       "      <th>1163</th>\n",
       "      <td>5825</td>\n",
       "      <td>2.436952</td>\n",
       "      <td>2.728239</td>\n",
       "    </tr>\n",
       "    <tr>\n",
       "      <th>1164</th>\n",
       "      <td>5826</td>\n",
       "      <td>2.254958</td>\n",
       "      <td>2.784319</td>\n",
       "    </tr>\n",
       "    <tr>\n",
       "      <th>1165</th>\n",
       "      <td>5828</td>\n",
       "      <td>2.483914</td>\n",
       "      <td>2.814428</td>\n",
       "    </tr>\n",
       "    <tr>\n",
       "      <th>1166</th>\n",
       "      <td>5829</td>\n",
       "      <td>2.376563</td>\n",
       "      <td>2.819100</td>\n",
       "    </tr>\n",
       "  </tbody>\n",
       "</table>\n",
       "</div>"
      ],
      "text/plain": [
       "        ID  Predicted (log)  Actual (log)\n",
       "1162  5818         2.422508      2.639955\n",
       "1163  5825         2.436952      2.728239\n",
       "1164  5826         2.254958      2.784319\n",
       "1165  5828         2.483914      2.814428\n",
       "1166  5829         2.376563      2.819100"
      ]
     },
     "execution_count": 99,
     "metadata": {},
     "output_type": "execute_result"
    }
   ],
   "source": [
    "GBcompare1=pd.DataFrame({'Predicted (log)':y_pred,'Actual (log)':y_test}).sort_values(by='Actual (log)',ascending=True).reset_index().rename(columns={'index':'ID'})\n",
    "GBcompare1.tail()"
   ]
  },
  {
   "cell_type": "code",
   "execution_count": 100,
   "metadata": {},
   "outputs": [
    {
     "data": {
      "image/png": "[encoded data removed]",
      "text/plain": [
       "<Figure size 432x288 with 1 Axes>"
      ]
     },
     "metadata": {
      "needs_background": "light"
     },
     "output_type": "display_data"
    }
   ],
   "source": [
    "plt.plot(GBcompare1['Actual (log)'], '.',c = 'red', label = \"Actual\");\n",
    "plt.plot(GBcompare1['Predicted (log)'], c = 'green', label = \"Prediction\");\n",
    "plt.legend([\"Actual (log)\", \"Predicted (log)\"],fontsize = 12);"
   ]
  },
  {
   "cell_type": "code",
   "execution_count": 101,
   "metadata": {},
   "outputs": [
    {
     "data": {
      "text/html": [
       "<div>\n",
       "<style scoped>\n",
       "    .dataframe tbody tr th:only-of-type {\n",
       "        vertical-align: middle;\n",
       "    }\n",
       "\n",
       "    .dataframe tbody tr th {\n",
       "        vertical-align: top;\n",
       "    }\n",
       "\n",
       "    .dataframe thead th {\n",
       "        text-align: right;\n",
       "    }\n",
       "</style>\n",
       "<table border=\"1\" class=\"dataframe\">\n",
       "  <thead>\n",
       "    <tr style=\"text-align: right;\">\n",
       "      <th></th>\n",
       "      <th>ID</th>\n",
       "      <th>movie</th>\n",
       "      <th>US (million)</th>\n",
       "      <th>Actual (million)</th>\n",
       "      <th>Predicted (million)</th>\n",
       "      <th>Error (%)</th>\n",
       "    </tr>\n",
       "  </thead>\n",
       "  <tbody>\n",
       "    <tr>\n",
       "      <th>19</th>\n",
       "      <td>84</td>\n",
       "      <td>Mr. Nobody</td>\n",
       "      <td>0.003600</td>\n",
       "      <td>0.003600</td>\n",
       "      <td>34.632496</td>\n",
       "      <td>961913.780320</td>\n",
       "    </tr>\n",
       "    <tr>\n",
       "      <th>10</th>\n",
       "      <td>44</td>\n",
       "      <td>ATM</td>\n",
       "      <td>0.002034</td>\n",
       "      <td>0.002034</td>\n",
       "      <td>2.831085</td>\n",
       "      <td>139088.075852</td>\n",
       "    </tr>\n",
       "    <tr>\n",
       "      <th>14</th>\n",
       "      <td>69</td>\n",
       "      <td>Nothing But the Truth</td>\n",
       "      <td>0.003045</td>\n",
       "      <td>0.003045</td>\n",
       "      <td>2.656212</td>\n",
       "      <td>87131.929156</td>\n",
       "    </tr>\n",
       "    <tr>\n",
       "      <th>93</th>\n",
       "      <td>416</td>\n",
       "      <td>The Boondock Saints</td>\n",
       "      <td>0.025812</td>\n",
       "      <td>0.025812</td>\n",
       "      <td>17.347806</td>\n",
       "      <td>67108.298383</td>\n",
       "    </tr>\n",
       "    <tr>\n",
       "      <th>6</th>\n",
       "      <td>29</td>\n",
       "      <td>Terror Firmer</td>\n",
       "      <td>0.001434</td>\n",
       "      <td>0.001434</td>\n",
       "      <td>0.576160</td>\n",
       "      <td>40078.531404</td>\n",
       "    </tr>\n",
       "  </tbody>\n",
       "</table>\n",
       "</div>"
      ],
      "text/plain": [
       "     ID                  movie  US (million)  Actual (million)  \\\n",
       "19   84             Mr. Nobody      0.003600          0.003600   \n",
       "10   44                    ATM      0.002034          0.002034   \n",
       "14   69  Nothing But the Truth      0.003045          0.003045   \n",
       "93  416    The Boondock Saints      0.025812          0.025812   \n",
       "6    29          Terror Firmer      0.001434          0.001434   \n",
       "\n",
       "    Predicted (million)      Error (%)  \n",
       "19            34.632496  961913.780320  \n",
       "10             2.831085  139088.075852  \n",
       "14             2.656212   87131.929156  \n",
       "93            17.347806   67108.298383  \n",
       "6              0.576160   40078.531404  "
      ]
     },
     "execution_count": 101,
     "metadata": {},
     "output_type": "execute_result"
    }
   ],
   "source": [
    "GB_df=pd.merge(US_Movie,GBcompare,on='ID',how='right')\n",
    "GB_df['Error (%)']=abs(((GB_df['Actual (million)']-GB_df['Predicted (million)'])/GB_df['Actual (million)'])*100)\n",
    "GB_df.sort_values(by='Error (%)',ascending=False).head()"
   ]
  },
  {
   "cell_type": "code",
   "execution_count": 102,
   "metadata": {},
   "outputs": [
    {
     "data": {
      "image/png": "[encoded data removed]",
      "text/plain": [
       "<Figure size 648x432 with 1 Axes>"
      ]
     },
     "metadata": {
      "needs_background": "light"
     },
     "output_type": "display_data"
    }
   ],
   "source": [
    "plt.figure(figsize=(9,6));\n",
    "plt.plot(GB_df['Actual (million)'],'.', c = 'red', label = \"Actual\");\n",
    "plt.plot(GB_df['Predicted (million)'], c = 'green', label = \"Prediction\");\n",
    "plt.legend([\"Actual (million)\", \"Predicted (million)\"],fontsize = 12)\n",
    "plt.ylabel('Prediction (Million)', fontsize = 12);"
   ]
  },
  {
   "cell_type": "code",
   "execution_count": 103,
   "metadata": {
    "scrolled": true
   },
   "outputs": [
    {
     "data": {
      "image/png": "[encoded data removed]",
      "text/plain": [
       "<Figure size 648x432 with 1 Axes>"
      ]
     },
     "metadata": {
      "needs_background": "light"
     },
     "output_type": "display_data"
    }
   ],
   "source": [
    "plt.figure(figsize=(9,6))\n",
    "RF_df['Error (%)'].hist(range=(0,1000),bins=200);\n",
    "plt.xlabel('Error (%)',size=12);\n",
    "plt.ylabel('# of movies',size=12);"
   ]
  },
  {
   "cell_type": "markdown",
   "metadata": {},
   "source": [
    "### Decision Tree Regressor"
   ]
  },
  {
   "cell_type": "code",
   "execution_count": 30,
   "metadata": {},
   "outputs": [
    {
     "name": "stderr",
     "output_type": "stream",
     "text": [
      "C:\\Users\\LZJ1995\\Anaconda3\\lib\\site-packages\\sklearn\\preprocessing\\data.py:323: DataConversionWarning: Data with input dtype uint8, int32, int64, float64 were all converted to float64 by MinMaxScaler.\n",
      "  return self.partial_fit(X, y)\n"
     ]
    },
    {
     "data": {
      "text/plain": [
       "array([[1.        , 1.        , 0.        , ..., 0.        , 0.        ,\n",
       "        1.        ],\n",
       "       [0.91666667, 1.        , 0.        , ..., 0.        , 0.        ,\n",
       "        1.        ],\n",
       "       [0.5       , 1.        , 0.        , ..., 0.        , 0.        ,\n",
       "        1.        ],\n",
       "       ...,\n",
       "       [0.25      , 1.        , 1.        , ..., 0.        , 0.        ,\n",
       "        1.        ],\n",
       "       [0.75      , 0.        , 0.        , ..., 0.        , 0.        ,\n",
       "        1.        ],\n",
       "       [0.75      , 1.        , 0.        , ..., 0.        , 1.        ,\n",
       "        0.        ]])"
      ]
     },
     "execution_count": 30,
     "metadata": {},
     "output_type": "execute_result"
    }
   ],
   "source": [
    "X=US_M_Log.drop(columns=['ID','Opening US (million)','US (million)'])\n",
    "y=US_M_Log['US (million)']\n",
    "\n",
    "\n",
    "X_train, X_test, y_train, y_test = train_test_split(X, y, test_size=0.2, random_state=42)\n",
    "\n",
    "scaler = preprocessing.MinMaxScaler()\n",
    "scaler.fit_transform(X_train)\n",
    "scaler.transform(X_test)"
   ]
  },
  {
   "cell_type": "code",
   "execution_count": 42,
   "metadata": {},
   "outputs": [
    {
     "name": "stdout",
     "output_type": "stream",
     "text": [
      "0.9471727878462763\n",
      "0.44404766588718325\n",
      "0.44404766588718325\n"
     ]
    }
   ],
   "source": [
    "DT = DecisionTreeRegressor(max_depth=100,max_features=5, random_state=20)\n",
    "DT.fit(X_train, y_train)\n",
    "\n",
    "\n",
    "y_pred=DT.predict(X_test)\n",
    "y_pred\n",
    "\n",
    "\n",
    "print(mean_squared_error(y_test,y_pred))\n",
    "print(r2_score(y_test,y_pred))\n",
    "print(DT.score(X_test,y_test))"
   ]
  },
  {
   "cell_type": "code",
   "execution_count": 43,
   "metadata": {},
   "outputs": [
    {
     "data": {
      "text/plain": [
       "<matplotlib.axes._subplots.AxesSubplot at 0x1c022a025c0>"
      ]
     },
     "execution_count": 43,
     "metadata": {},
     "output_type": "execute_result"
    },
    {
     "data": {
      "image/png": "[encoded data removed]",
      "text/plain": [
       "<Figure size 648x504 with 1 Axes>"
      ]
     },
     "metadata": {
      "needs_background": "light"
     },
     "output_type": "display_data"
    }
   ],
   "source": [
    "(pd.Series(DT.feature_importances_, index=X.columns).nlargest(10).plot(kind='barh',figsize=(9,7)))     "
   ]
  },
  {
   "cell_type": "code",
   "execution_count": 44,
   "metadata": {},
   "outputs": [
    {
     "data": {
      "text/html": [
       "<div>\n",
       "<style scoped>\n",
       "    .dataframe tbody tr th:only-of-type {\n",
       "        vertical-align: middle;\n",
       "    }\n",
       "\n",
       "    .dataframe tbody tr th {\n",
       "        vertical-align: top;\n",
       "    }\n",
       "\n",
       "    .dataframe thead th {\n",
       "        text-align: right;\n",
       "    }\n",
       "</style>\n",
       "<table border=\"1\" class=\"dataframe\">\n",
       "  <thead>\n",
       "    <tr style=\"text-align: right;\">\n",
       "      <th></th>\n",
       "      <th>ID</th>\n",
       "      <th>Predicted (million)</th>\n",
       "      <th>Actual (million)</th>\n",
       "    </tr>\n",
       "  </thead>\n",
       "  <tbody>\n",
       "    <tr>\n",
       "      <th>0</th>\n",
       "      <td>2550</td>\n",
       "      <td>1.978592</td>\n",
       "      <td>7.362100</td>\n",
       "    </tr>\n",
       "    <tr>\n",
       "      <th>1</th>\n",
       "      <td>5445</td>\n",
       "      <td>150.117807</td>\n",
       "      <td>132.092958</td>\n",
       "    </tr>\n",
       "    <tr>\n",
       "      <th>2</th>\n",
       "      <td>5518</td>\n",
       "      <td>109.449237</td>\n",
       "      <td>148.768917</td>\n",
       "    </tr>\n",
       "    <tr>\n",
       "      <th>3</th>\n",
       "      <td>1554</td>\n",
       "      <td>0.001097</td>\n",
       "      <td>0.925756</td>\n",
       "    </tr>\n",
       "    <tr>\n",
       "      <th>4</th>\n",
       "      <td>2600</td>\n",
       "      <td>15.024049</td>\n",
       "      <td>7.994115</td>\n",
       "    </tr>\n",
       "  </tbody>\n",
       "</table>\n",
       "</div>"
      ],
      "text/plain": [
       "     ID  Predicted (million)  Actual (million)\n",
       "0  2550             1.978592          7.362100\n",
       "1  5445           150.117807        132.092958\n",
       "2  5518           109.449237        148.768917\n",
       "3  1554             0.001097          0.925756\n",
       "4  2600            15.024049          7.994115"
      ]
     },
     "execution_count": 44,
     "metadata": {},
     "output_type": "execute_result"
    }
   ],
   "source": [
    "DTcompare=pd.DataFrame({'Predicted (million)':10**(y_pred),'Actual (million)':10**(y_test)}).reset_index().rename(columns={'index':'ID'})\n",
    "DTcompare.head()"
   ]
  },
  {
   "cell_type": "code",
   "execution_count": 45,
   "metadata": {},
   "outputs": [
    {
     "data": {
      "text/html": [
       "<div>\n",
       "<style scoped>\n",
       "    .dataframe tbody tr th:only-of-type {\n",
       "        vertical-align: middle;\n",
       "    }\n",
       "\n",
       "    .dataframe tbody tr th {\n",
       "        vertical-align: top;\n",
       "    }\n",
       "\n",
       "    .dataframe thead th {\n",
       "        text-align: right;\n",
       "    }\n",
       "</style>\n",
       "<table border=\"1\" class=\"dataframe\">\n",
       "  <thead>\n",
       "    <tr style=\"text-align: right;\">\n",
       "      <th></th>\n",
       "      <th>ID</th>\n",
       "      <th>Predicted (log)</th>\n",
       "      <th>Actual (log)</th>\n",
       "    </tr>\n",
       "  </thead>\n",
       "  <tbody>\n",
       "    <tr>\n",
       "      <th>1162</th>\n",
       "      <td>5818</td>\n",
       "      <td>2.279710</td>\n",
       "      <td>2.639955</td>\n",
       "    </tr>\n",
       "    <tr>\n",
       "      <th>1163</th>\n",
       "      <td>5825</td>\n",
       "      <td>2.651413</td>\n",
       "      <td>2.728239</td>\n",
       "    </tr>\n",
       "    <tr>\n",
       "      <th>1164</th>\n",
       "      <td>5826</td>\n",
       "      <td>2.566301</td>\n",
       "      <td>2.784319</td>\n",
       "    </tr>\n",
       "    <tr>\n",
       "      <th>1165</th>\n",
       "      <td>5828</td>\n",
       "      <td>2.726056</td>\n",
       "      <td>2.814428</td>\n",
       "    </tr>\n",
       "    <tr>\n",
       "      <th>1166</th>\n",
       "      <td>5829</td>\n",
       "      <td>2.651413</td>\n",
       "      <td>2.819100</td>\n",
       "    </tr>\n",
       "  </tbody>\n",
       "</table>\n",
       "</div>"
      ],
      "text/plain": [
       "        ID  Predicted (log)  Actual (log)\n",
       "1162  5818         2.279710      2.639955\n",
       "1163  5825         2.651413      2.728239\n",
       "1164  5826         2.566301      2.784319\n",
       "1165  5828         2.726056      2.814428\n",
       "1166  5829         2.651413      2.819100"
      ]
     },
     "execution_count": 45,
     "metadata": {},
     "output_type": "execute_result"
    }
   ],
   "source": [
    "DTcompare1=pd.DataFrame({'Predicted (log)':y_pred,'Actual (log)':y_test}).sort_values(by='Actual (log)',ascending=True).reset_index().rename(columns={'index':'ID'})\n",
    "DTcompare1.tail()"
   ]
  },
  {
   "cell_type": "code",
   "execution_count": 46,
   "metadata": {},
   "outputs": [
    {
     "data": {
      "image/png": "[encoded data removed]",
      "text/plain": [
       "<Figure size 432x288 with 1 Axes>"
      ]
     },
     "metadata": {
      "needs_background": "light"
     },
     "output_type": "display_data"
    }
   ],
   "source": [
    "plt.plot(DTcompare1['Actual (log)'], '.',c = 'red', label = \"Actual\");\n",
    "plt.plot(DTcompare1['Predicted (log)'], c = 'green', label = \"Prediction\");\n",
    "plt.legend([\"Actual (log)\", \"Predicted (log)\"],fontsize = 12);"
   ]
  },
  {
   "cell_type": "code",
   "execution_count": 47,
   "metadata": {},
   "outputs": [
    {
     "data": {
      "text/html": [
       "<div>\n",
       "<style scoped>\n",
       "    .dataframe tbody tr th:only-of-type {\n",
       "        vertical-align: middle;\n",
       "    }\n",
       "\n",
       "    .dataframe tbody tr th {\n",
       "        vertical-align: top;\n",
       "    }\n",
       "\n",
       "    .dataframe thead th {\n",
       "        text-align: right;\n",
       "    }\n",
       "</style>\n",
       "<table border=\"1\" class=\"dataframe\">\n",
       "  <thead>\n",
       "    <tr style=\"text-align: right;\">\n",
       "      <th></th>\n",
       "      <th>ID</th>\n",
       "      <th>movie</th>\n",
       "      <th>US (million)</th>\n",
       "      <th>Predicted (million)</th>\n",
       "      <th>Actual (million)</th>\n",
       "      <th>Error (%)</th>\n",
       "    </tr>\n",
       "  </thead>\n",
       "  <tbody>\n",
       "    <tr>\n",
       "      <th>32</th>\n",
       "      <td>132</td>\n",
       "      <td>Kid Cannabis</td>\n",
       "      <td>0.005565</td>\n",
       "      <td>29.392418</td>\n",
       "      <td>0.005565</td>\n",
       "      <td>528065.642408</td>\n",
       "    </tr>\n",
       "    <tr>\n",
       "      <th>19</th>\n",
       "      <td>84</td>\n",
       "      <td>Mr. Nobody</td>\n",
       "      <td>0.003600</td>\n",
       "      <td>18.095701</td>\n",
       "      <td>0.003600</td>\n",
       "      <td>502558.361111</td>\n",
       "    </tr>\n",
       "    <tr>\n",
       "      <th>93</th>\n",
       "      <td>416</td>\n",
       "      <td>The Boondock Saints</td>\n",
       "      <td>0.025812</td>\n",
       "      <td>116.724075</td>\n",
       "      <td>0.025812</td>\n",
       "      <td>452108.565783</td>\n",
       "    </tr>\n",
       "    <tr>\n",
       "      <th>76</th>\n",
       "      <td>324</td>\n",
       "      <td>Violet &amp; Daisy</td>\n",
       "      <td>0.017186</td>\n",
       "      <td>29.392418</td>\n",
       "      <td>0.017186</td>\n",
       "      <td>170925.357849</td>\n",
       "    </tr>\n",
       "    <tr>\n",
       "      <th>45</th>\n",
       "      <td>183</td>\n",
       "      <td>Largo Winch</td>\n",
       "      <td>0.007621</td>\n",
       "      <td>11.300653</td>\n",
       "      <td>0.007621</td>\n",
       "      <td>148183.073088</td>\n",
       "    </tr>\n",
       "  </tbody>\n",
       "</table>\n",
       "</div>"
      ],
      "text/plain": [
       "     ID                movie  US (million)  Predicted (million)  \\\n",
       "32  132         Kid Cannabis      0.005565            29.392418   \n",
       "19   84           Mr. Nobody      0.003600            18.095701   \n",
       "93  416  The Boondock Saints      0.025812           116.724075   \n",
       "76  324       Violet & Daisy      0.017186            29.392418   \n",
       "45  183          Largo Winch      0.007621            11.300653   \n",
       "\n",
       "    Actual (million)      Error (%)  \n",
       "32          0.005565  528065.642408  \n",
       "19          0.003600  502558.361111  \n",
       "93          0.025812  452108.565783  \n",
       "76          0.017186  170925.357849  \n",
       "45          0.007621  148183.073088  "
      ]
     },
     "execution_count": 47,
     "metadata": {},
     "output_type": "execute_result"
    }
   ],
   "source": [
    "DT_df=pd.merge(US_Movie,DTcompare,on='ID',how='right')\n",
    "DT_df['Error (%)']=abs((DT_df['Actual (million)']-DT_df['Predicted (million)'])/DT_df['Actual (million)']*100)\n",
    "DT_df.sort_values(by='Error (%)',ascending=False).head()"
   ]
  },
  {
   "cell_type": "code",
   "execution_count": 48,
   "metadata": {
    "scrolled": false
   },
   "outputs": [
    {
     "data": {
      "image/png": "[encoded data removed]",
      "text/plain": [
       "<Figure size 648x432 with 1 Axes>"
      ]
     },
     "metadata": {
      "needs_background": "light"
     },
     "output_type": "display_data"
    }
   ],
   "source": [
    "plt.figure(figsize=(9,6));\n",
    "plt.plot(DT_df['Actual (million)'],'.', c = 'red', label = \"Actual\");\n",
    "plt.plot(DT_df['Predicted (million)'], c = 'green', label = \"Prediction\");\n",
    "plt.legend([\"Actual (million)\", \"Predicted (million)\"],fontsize = 12)\n",
    "plt.ylabel('Prediction (Million)', fontsize = 14);"
   ]
  },
  {
   "cell_type": "code",
   "execution_count": 49,
   "metadata": {},
   "outputs": [
    {
     "data": {
      "image/png": "[encoded data removed]",
      "text/plain": [
       "<Figure size 432x288 with 1 Axes>"
      ]
     },
     "metadata": {
      "needs_background": "light"
     },
     "output_type": "display_data"
    }
   ],
   "source": [
    "DT_df['Error (%)'].hist(range=(0,1000),bins=200);"
   ]
  },
  {
   "cell_type": "markdown",
   "metadata": {},
   "source": [
    "### Random Forest Regressor"
   ]
  },
  {
   "cell_type": "code",
   "execution_count": 59,
   "metadata": {},
   "outputs": [
    {
     "name": "stderr",
     "output_type": "stream",
     "text": [
      "C:\\Users\\LZJ1995\\Anaconda3\\lib\\site-packages\\sklearn\\preprocessing\\data.py:323: DataConversionWarning: Data with input dtype uint8, int32, int64, float64 were all converted to float64 by MinMaxScaler.\n",
      "  return self.partial_fit(X, y)\n"
     ]
    },
    {
     "name": "stdout",
     "output_type": "stream",
     "text": [
      "0.4395981554350192\n",
      "0.7419735620345413\n",
      "0.7419735620345413\n"
     ]
    }
   ],
   "source": [
    "X=US_M_Log.drop(columns=['ID','Opening US (million)','US (million)'])\n",
    "y=US_M_Log['US (million)']\n",
    "\n",
    "X_train, X_test, y_train, y_test = train_test_split(X, y, test_size=0.2, random_state=42)\n",
    "\n",
    "scaler = preprocessing.MinMaxScaler()\n",
    "scaler.fit_transform(X_train)\n",
    "scaler.transform(X_test)\n",
    "\n",
    "RF = RandomForestRegressor(n_estimators=4000,max_depth=200,random_state=42)\n",
    "RF.fit(X_train, y_train)\n",
    "\n",
    "\n",
    "y_pred=RF.predict(X_test)\n",
    "y_pred\n",
    "\n",
    "print(mean_squared_error(y_test,y_pred))\n",
    "print(r2_score(y_test,y_pred))\n",
    "print(RF.score(X_test,y_test))"
   ]
  },
  {
   "cell_type": "code",
   "execution_count": 60,
   "metadata": {},
   "outputs": [
    {
     "data": {
      "image/png": "[encoded data removed]",
      "text/plain": [
       "<Figure size 648x504 with 1 Axes>"
      ]
     },
     "metadata": {
      "needs_background": "light"
     },
     "output_type": "display_data"
    }
   ],
   "source": [
    "pd.Series(RF.feature_importances_, index=X.columns).nlargest(15).plot(kind='barh',figsize=(9,7));"
   ]
  },
  {
   "cell_type": "code",
   "execution_count": 61,
   "metadata": {},
   "outputs": [
    {
     "data": {
      "text/html": [
       "<div>\n",
       "<style scoped>\n",
       "    .dataframe tbody tr th:only-of-type {\n",
       "        vertical-align: middle;\n",
       "    }\n",
       "\n",
       "    .dataframe tbody tr th {\n",
       "        vertical-align: top;\n",
       "    }\n",
       "\n",
       "    .dataframe thead th {\n",
       "        text-align: right;\n",
       "    }\n",
       "</style>\n",
       "<table border=\"1\" class=\"dataframe\">\n",
       "  <thead>\n",
       "    <tr style=\"text-align: right;\">\n",
       "      <th></th>\n",
       "      <th>ID</th>\n",
       "      <th>Actual (million)</th>\n",
       "      <th>Predicted (million)</th>\n",
       "    </tr>\n",
       "  </thead>\n",
       "  <tbody>\n",
       "    <tr>\n",
       "      <th>0</th>\n",
       "      <td>2550</td>\n",
       "      <td>7.362100</td>\n",
       "      <td>3.977843</td>\n",
       "    </tr>\n",
       "    <tr>\n",
       "      <th>1</th>\n",
       "      <td>5445</td>\n",
       "      <td>132.092958</td>\n",
       "      <td>77.535681</td>\n",
       "    </tr>\n",
       "    <tr>\n",
       "      <th>2</th>\n",
       "      <td>5518</td>\n",
       "      <td>148.768917</td>\n",
       "      <td>93.388728</td>\n",
       "    </tr>\n",
       "    <tr>\n",
       "      <th>3</th>\n",
       "      <td>1554</td>\n",
       "      <td>0.925756</td>\n",
       "      <td>0.343571</td>\n",
       "    </tr>\n",
       "    <tr>\n",
       "      <th>4</th>\n",
       "      <td>2600</td>\n",
       "      <td>7.994115</td>\n",
       "      <td>11.512926</td>\n",
       "    </tr>\n",
       "  </tbody>\n",
       "</table>\n",
       "</div>"
      ],
      "text/plain": [
       "     ID  Actual (million)  Predicted (million)\n",
       "0  2550          7.362100             3.977843\n",
       "1  5445        132.092958            77.535681\n",
       "2  5518        148.768917            93.388728\n",
       "3  1554          0.925756             0.343571\n",
       "4  2600          7.994115            11.512926"
      ]
     },
     "execution_count": 61,
     "metadata": {},
     "output_type": "execute_result"
    }
   ],
   "source": [
    "RFcompare=pd.DataFrame({'Actual (million)':10**(y_test),'Predicted (million)':10**(y_pred)}).reset_index().rename(columns={'index':'ID'})\n",
    "RFcompare.head()"
   ]
  },
  {
   "cell_type": "code",
   "execution_count": 62,
   "metadata": {},
   "outputs": [
    {
     "data": {
      "text/html": [
       "<div>\n",
       "<style scoped>\n",
       "    .dataframe tbody tr th:only-of-type {\n",
       "        vertical-align: middle;\n",
       "    }\n",
       "\n",
       "    .dataframe tbody tr th {\n",
       "        vertical-align: top;\n",
       "    }\n",
       "\n",
       "    .dataframe thead th {\n",
       "        text-align: right;\n",
       "    }\n",
       "</style>\n",
       "<table border=\"1\" class=\"dataframe\">\n",
       "  <thead>\n",
       "    <tr style=\"text-align: right;\">\n",
       "      <th></th>\n",
       "      <th>ID</th>\n",
       "      <th>Predicted (log)</th>\n",
       "      <th>Actual (log)</th>\n",
       "    </tr>\n",
       "  </thead>\n",
       "  <tbody>\n",
       "    <tr>\n",
       "      <th>1162</th>\n",
       "      <td>5818</td>\n",
       "      <td>2.414145</td>\n",
       "      <td>2.639955</td>\n",
       "    </tr>\n",
       "    <tr>\n",
       "      <th>1163</th>\n",
       "      <td>5825</td>\n",
       "      <td>2.402582</td>\n",
       "      <td>2.728239</td>\n",
       "    </tr>\n",
       "    <tr>\n",
       "      <th>1164</th>\n",
       "      <td>5826</td>\n",
       "      <td>2.279032</td>\n",
       "      <td>2.784319</td>\n",
       "    </tr>\n",
       "    <tr>\n",
       "      <th>1165</th>\n",
       "      <td>5828</td>\n",
       "      <td>2.591909</td>\n",
       "      <td>2.814428</td>\n",
       "    </tr>\n",
       "    <tr>\n",
       "      <th>1166</th>\n",
       "      <td>5829</td>\n",
       "      <td>2.451753</td>\n",
       "      <td>2.819100</td>\n",
       "    </tr>\n",
       "  </tbody>\n",
       "</table>\n",
       "</div>"
      ],
      "text/plain": [
       "        ID  Predicted (log)  Actual (log)\n",
       "1162  5818         2.414145      2.639955\n",
       "1163  5825         2.402582      2.728239\n",
       "1164  5826         2.279032      2.784319\n",
       "1165  5828         2.591909      2.814428\n",
       "1166  5829         2.451753      2.819100"
      ]
     },
     "execution_count": 62,
     "metadata": {},
     "output_type": "execute_result"
    }
   ],
   "source": [
    "RFcompare1=pd.DataFrame({'Predicted (log)':y_pred,'Actual (log)':y_test}).sort_values(by='Actual (log)',ascending=True).reset_index().rename(columns={'index':'ID'})\n",
    "RFcompare1.tail()"
   ]
  },
  {
   "cell_type": "code",
   "execution_count": 63,
   "metadata": {},
   "outputs": [
    {
     "data": {
      "image/png": "[encoded data removed]",
      "text/plain": [
       "<Figure size 432x288 with 1 Axes>"
      ]
     },
     "metadata": {
      "needs_background": "light"
     },
     "output_type": "display_data"
    }
   ],
   "source": [
    "plt.plot(RFcompare1['Actual (log)'], '.',c = 'red', label = \"Actual\");\n",
    "plt.plot(RFcompare1['Predicted (log)'], c = 'green', label = \"Prediction\");\n",
    "plt.legend([\"Actual (log)\", \"Predicted (log)\"],fontsize = 12);"
   ]
  },
  {
   "cell_type": "code",
   "execution_count": 64,
   "metadata": {},
   "outputs": [
    {
     "data": {
      "text/html": [
       "<div>\n",
       "<style scoped>\n",
       "    .dataframe tbody tr th:only-of-type {\n",
       "        vertical-align: middle;\n",
       "    }\n",
       "\n",
       "    .dataframe tbody tr th {\n",
       "        vertical-align: top;\n",
       "    }\n",
       "\n",
       "    .dataframe thead th {\n",
       "        text-align: right;\n",
       "    }\n",
       "</style>\n",
       "<table border=\"1\" class=\"dataframe\">\n",
       "  <thead>\n",
       "    <tr style=\"text-align: right;\">\n",
       "      <th></th>\n",
       "      <th>ID</th>\n",
       "      <th>movie</th>\n",
       "      <th>US (million)</th>\n",
       "      <th>Actual (million)</th>\n",
       "      <th>Predicted (million)</th>\n",
       "      <th>Error (%)</th>\n",
       "    </tr>\n",
       "  </thead>\n",
       "  <tbody>\n",
       "    <tr>\n",
       "      <th>19</th>\n",
       "      <td>84</td>\n",
       "      <td>Mr. Nobody</td>\n",
       "      <td>0.003600</td>\n",
       "      <td>0.003600</td>\n",
       "      <td>29.381795</td>\n",
       "      <td>816060.976526</td>\n",
       "    </tr>\n",
       "    <tr>\n",
       "      <th>10</th>\n",
       "      <td>44</td>\n",
       "      <td>ATM</td>\n",
       "      <td>0.002034</td>\n",
       "      <td>0.002034</td>\n",
       "      <td>2.660442</td>\n",
       "      <td>130698.540639</td>\n",
       "    </tr>\n",
       "    <tr>\n",
       "      <th>93</th>\n",
       "      <td>416</td>\n",
       "      <td>The Boondock Saints</td>\n",
       "      <td>0.025812</td>\n",
       "      <td>0.025812</td>\n",
       "      <td>24.003464</td>\n",
       "      <td>92893.430920</td>\n",
       "    </tr>\n",
       "    <tr>\n",
       "      <th>14</th>\n",
       "      <td>69</td>\n",
       "      <td>Nothing But the Truth</td>\n",
       "      <td>0.003045</td>\n",
       "      <td>0.003045</td>\n",
       "      <td>1.926125</td>\n",
       "      <td>63155.330855</td>\n",
       "    </tr>\n",
       "    <tr>\n",
       "      <th>6</th>\n",
       "      <td>29</td>\n",
       "      <td>Terror Firmer</td>\n",
       "      <td>0.001434</td>\n",
       "      <td>0.001434</td>\n",
       "      <td>0.735369</td>\n",
       "      <td>51180.988345</td>\n",
       "    </tr>\n",
       "  </tbody>\n",
       "</table>\n",
       "</div>"
      ],
      "text/plain": [
       "     ID                  movie  US (million)  Actual (million)  \\\n",
       "19   84             Mr. Nobody      0.003600          0.003600   \n",
       "10   44                    ATM      0.002034          0.002034   \n",
       "93  416    The Boondock Saints      0.025812          0.025812   \n",
       "14   69  Nothing But the Truth      0.003045          0.003045   \n",
       "6    29          Terror Firmer      0.001434          0.001434   \n",
       "\n",
       "    Predicted (million)      Error (%)  \n",
       "19            29.381795  816060.976526  \n",
       "10             2.660442  130698.540639  \n",
       "93            24.003464   92893.430920  \n",
       "14             1.926125   63155.330855  \n",
       "6              0.735369   51180.988345  "
      ]
     },
     "execution_count": 64,
     "metadata": {},
     "output_type": "execute_result"
    }
   ],
   "source": [
    "RF_df=pd.merge(US_Movie,RFcompare,on='ID',how='right')\n",
    "RF_df['Error (%)']=abs(((RF_df['Actual (million)']-RF_df['Predicted (million)'])/RF_df['Actual (million)'])*100)\n",
    "RF_df.sort_values(by='Error (%)',ascending=False).head()"
   ]
  },
  {
   "cell_type": "code",
   "execution_count": 65,
   "metadata": {},
   "outputs": [
    {
     "data": {
      "image/png": "[encoded data removed]",
      "text/plain": [
       "<Figure size 648x432 with 1 Axes>"
      ]
     },
     "metadata": {
      "needs_background": "light"
     },
     "output_type": "display_data"
    }
   ],
   "source": [
    "plt.figure(figsize=(9,6));\n",
    "plt.plot(RF_df['Actual (million)'],'.', c = 'red', label = \"Actual\");\n",
    "plt.plot(RF_df['Predicted (million)'], c = 'green', label = \"Prediction\");\n",
    "plt.legend([\"Actual (million)\", \"Predicted (million)\"],fontsize = 12)\n",
    "plt.ylabel('Prediction (Million)', fontsize = 12);"
   ]
  },
  {
   "cell_type": "code",
   "execution_count": 66,
   "metadata": {
    "scrolled": true
   },
   "outputs": [
    {
     "data": {
      "image/png": "[encoded data removed]",
      "text/plain": [
       "<Figure size 648x432 with 1 Axes>"
      ]
     },
     "metadata": {
      "needs_background": "light"
     },
     "output_type": "display_data"
    }
   ],
   "source": [
    "plt.figure(figsize=(9,6))\n",
    "RF_df['Error (%)'].hist(range=(0,1000),bins=200);\n",
    "plt.xlabel('Error (%)',size=12);\n",
    "plt.ylabel('# of movies',size=12);"
   ]
  },
  {
   "cell_type": "markdown",
   "metadata": {},
   "source": [
    "### KNeighborsRegressor"
   ]
  },
  {
   "cell_type": "code",
   "execution_count": 87,
   "metadata": {},
   "outputs": [
    {
     "name": "stdout",
     "output_type": "stream",
     "text": [
      "0.8414693975521804\n",
      "0.5060913049271789\n",
      "0.5060913049271789\n"
     ]
    }
   ],
   "source": [
    "KNR = KNeighborsRegressor()\n",
    "KNR.fit(X_train, y_train)\n",
    "\n",
    "\n",
    "y_pred=KNR.predict(X_test)\n",
    "y_pred\n",
    "\n",
    "print(mean_squared_error(y_test,y_pred))\n",
    "print(r2_score(y_test,y_pred))\n",
    "print(KNR.score(X_test,y_test))"
   ]
  },
  {
   "cell_type": "code",
   "execution_count": 88,
   "metadata": {},
   "outputs": [
    {
     "data": {
      "text/html": [
       "<div>\n",
       "<style scoped>\n",
       "    .dataframe tbody tr th:only-of-type {\n",
       "        vertical-align: middle;\n",
       "    }\n",
       "\n",
       "    .dataframe tbody tr th {\n",
       "        vertical-align: top;\n",
       "    }\n",
       "\n",
       "    .dataframe thead th {\n",
       "        text-align: right;\n",
       "    }\n",
       "</style>\n",
       "<table border=\"1\" class=\"dataframe\">\n",
       "  <thead>\n",
       "    <tr style=\"text-align: right;\">\n",
       "      <th></th>\n",
       "      <th>ID</th>\n",
       "      <th>Actual (million)</th>\n",
       "      <th>Predicted (million)</th>\n",
       "    </tr>\n",
       "  </thead>\n",
       "  <tbody>\n",
       "    <tr>\n",
       "      <th>0</th>\n",
       "      <td>2550</td>\n",
       "      <td>7.362100</td>\n",
       "      <td>23.123128</td>\n",
       "    </tr>\n",
       "    <tr>\n",
       "      <th>1</th>\n",
       "      <td>5445</td>\n",
       "      <td>132.092958</td>\n",
       "      <td>173.461450</td>\n",
       "    </tr>\n",
       "    <tr>\n",
       "      <th>2</th>\n",
       "      <td>5518</td>\n",
       "      <td>148.768917</td>\n",
       "      <td>55.803969</td>\n",
       "    </tr>\n",
       "    <tr>\n",
       "      <th>3</th>\n",
       "      <td>1554</td>\n",
       "      <td>0.925756</td>\n",
       "      <td>0.302610</td>\n",
       "    </tr>\n",
       "    <tr>\n",
       "      <th>4</th>\n",
       "      <td>2600</td>\n",
       "      <td>7.994115</td>\n",
       "      <td>24.443302</td>\n",
       "    </tr>\n",
       "  </tbody>\n",
       "</table>\n",
       "</div>"
      ],
      "text/plain": [
       "     ID  Actual (million)  Predicted (million)\n",
       "0  2550          7.362100            23.123128\n",
       "1  5445        132.092958           173.461450\n",
       "2  5518        148.768917            55.803969\n",
       "3  1554          0.925756             0.302610\n",
       "4  2600          7.994115            24.443302"
      ]
     },
     "execution_count": 88,
     "metadata": {},
     "output_type": "execute_result"
    }
   ],
   "source": [
    "KNRcompare=pd.DataFrame({'Actual (million)':10**(y_test),'Predicted (million)':10**(y_pred)}).reset_index().rename(columns={'index':'ID'})\n",
    "KNRcompare.head()"
   ]
  },
  {
   "cell_type": "code",
   "execution_count": 89,
   "metadata": {},
   "outputs": [
    {
     "data": {
      "text/html": [
       "<div>\n",
       "<style scoped>\n",
       "    .dataframe tbody tr th:only-of-type {\n",
       "        vertical-align: middle;\n",
       "    }\n",
       "\n",
       "    .dataframe tbody tr th {\n",
       "        vertical-align: top;\n",
       "    }\n",
       "\n",
       "    .dataframe thead th {\n",
       "        text-align: right;\n",
       "    }\n",
       "</style>\n",
       "<table border=\"1\" class=\"dataframe\">\n",
       "  <thead>\n",
       "    <tr style=\"text-align: right;\">\n",
       "      <th></th>\n",
       "      <th>ID</th>\n",
       "      <th>movie</th>\n",
       "      <th>US (million)</th>\n",
       "      <th>Actual (million)</th>\n",
       "      <th>Predicted (million)</th>\n",
       "      <th>Error (%)</th>\n",
       "    </tr>\n",
       "  </thead>\n",
       "  <tbody>\n",
       "    <tr>\n",
       "      <th>987</th>\n",
       "      <td>4908</td>\n",
       "      <td>Blade</td>\n",
       "      <td>70.087718</td>\n",
       "      <td>70.087718</td>\n",
       "      <td>70.142076</td>\n",
       "      <td>0.077557</td>\n",
       "    </tr>\n",
       "    <tr>\n",
       "      <th>434</th>\n",
       "      <td>2121</td>\n",
       "      <td>Disobedience</td>\n",
       "      <td>3.480702</td>\n",
       "      <td>3.480702</td>\n",
       "      <td>3.472337</td>\n",
       "      <td>0.240311</td>\n",
       "    </tr>\n",
       "    <tr>\n",
       "      <th>708</th>\n",
       "      <td>3483</td>\n",
       "      <td>The Quest</td>\n",
       "      <td>21.600000</td>\n",
       "      <td>21.600000</td>\n",
       "      <td>21.459763</td>\n",
       "      <td>0.649246</td>\n",
       "    </tr>\n",
       "    <tr>\n",
       "      <th>927</th>\n",
       "      <td>4578</td>\n",
       "      <td>Corpse Bride</td>\n",
       "      <td>53.359111</td>\n",
       "      <td>53.359111</td>\n",
       "      <td>54.182211</td>\n",
       "      <td>1.542567</td>\n",
       "    </tr>\n",
       "    <tr>\n",
       "      <th>1024</th>\n",
       "      <td>5096</td>\n",
       "      <td>Atlantis: The Lost Empire</td>\n",
       "      <td>84.052762</td>\n",
       "      <td>84.052762</td>\n",
       "      <td>85.426916</td>\n",
       "      <td>1.634871</td>\n",
       "    </tr>\n",
       "  </tbody>\n",
       "</table>\n",
       "</div>"
      ],
      "text/plain": [
       "        ID                      movie  US (million)  Actual (million)  \\\n",
       "987   4908                      Blade     70.087718         70.087718   \n",
       "434   2121               Disobedience      3.480702          3.480702   \n",
       "708   3483                  The Quest     21.600000         21.600000   \n",
       "927   4578               Corpse Bride     53.359111         53.359111   \n",
       "1024  5096  Atlantis: The Lost Empire     84.052762         84.052762   \n",
       "\n",
       "      Predicted (million)  Error (%)  \n",
       "987             70.142076   0.077557  \n",
       "434              3.472337   0.240311  \n",
       "708             21.459763   0.649246  \n",
       "927             54.182211   1.542567  \n",
       "1024            85.426916   1.634871  "
      ]
     },
     "execution_count": 89,
     "metadata": {},
     "output_type": "execute_result"
    }
   ],
   "source": [
    "KNR_df=pd.merge(US_Movie,KNRcompare,on='ID',how='right')\n",
    "KNR_df['Error (%)']=abs(((KNR_df['Actual (million)']-KNR_df['Predicted (million)'])/KNR_df['Actual (million)'])*100)\n",
    "KNR_df.sort_values(by='Error (%)',ascending=True).head()"
   ]
  },
  {
   "cell_type": "code",
   "execution_count": 90,
   "metadata": {},
   "outputs": [
    {
     "data": {
      "image/png": "[encoded data removed]",
      "text/plain": [
       "<Figure size 648x432 with 1 Axes>"
      ]
     },
     "metadata": {
      "needs_background": "light"
     },
     "output_type": "display_data"
    }
   ],
   "source": [
    "plt.figure(figsize=(9,6));\n",
    "plt.plot(KNR_df['Actual (million)'],'.', c = 'red', label = \"Actual\");\n",
    "plt.plot(KNR_df['Predicted (million)'], c = 'green', label = \"Prediction\");\n",
    "plt.legend([\"Actual (million)\", \"Predicted (million)\"],fontsize = 12)\n",
    "plt.ylabel('Prediction (Million)', fontsize = 12);"
   ]
  },
  {
   "cell_type": "code",
   "execution_count": 91,
   "metadata": {},
   "outputs": [
    {
     "data": {
      "image/png": "[encoded data removed]",
      "text/plain": [
       "<Figure size 648x432 with 1 Axes>"
      ]
     },
     "metadata": {
      "needs_background": "light"
     },
     "output_type": "display_data"
    }
   ],
   "source": [
    "plt.figure(figsize=(9,6))\n",
    "KNR_df['Error (%)'].hist(range=(0,1000),bins=200);\n",
    "plt.xlabel('Error (%)',size=12);\n",
    "plt.ylabel('# of movies',size=12);"
   ]
  },
  {
   "cell_type": "markdown",
   "metadata": {},
   "source": [
    "### Adaboost Regression"
   ]
  },
  {
   "cell_type": "code",
   "execution_count": 92,
   "metadata": {},
   "outputs": [
    {
     "data": {
      "text/plain": [
       "0.6091728378032661"
      ]
     },
     "execution_count": 92,
     "metadata": {},
     "output_type": "execute_result"
    }
   ],
   "source": [
    "AB =AdaBoostRegressor()\n",
    "AB.fit(X_train, y_train)\n",
    "\n",
    "y_pred=AB.predict(X_test)\n",
    "y_pred\n",
    "\n",
    "cross_val_score(AB, X_test, y_test, cv=10).mean()"
   ]
  },
  {
   "cell_type": "code",
   "execution_count": 67,
   "metadata": {},
   "outputs": [
    {
     "data": {
      "text/plain": [
       "<matplotlib.axes._subplots.AxesSubplot at 0x1b656b743c8>"
      ]
     },
     "execution_count": 67,
     "metadata": {},
     "output_type": "execute_result"
    },
    {
     "data": {
      "image/png": "[encoded data removed]",
      "text/plain": [
       "<Figure size 648x504 with 1 Axes>"
      ]
     },
     "metadata": {
      "needs_background": "light"
     },
     "output_type": "display_data"
    }
   ],
   "source": [
    "(pd.Series(AB.feature_importances_, index=X.columns).nlargest(10).plot(kind='barh',figsize=(9,7)))     "
   ]
  },
  {
   "cell_type": "code",
   "execution_count": 68,
   "metadata": {},
   "outputs": [
    {
     "name": "stdout",
     "output_type": "stream",
     "text": [
      "3846.602098001836\n",
      "0.1697442626547787\n"
     ]
    }
   ],
   "source": [
    "print(mean_squared_error(y_test,y_pred))\n",
    "print(r2_score(y_test,y_pred))\n",
    "ABcompare=pd.DataFrame({'Predicted':y_pred,'Actual':y_test}).sort_values(by='Predicted',ascending=True)"
   ]
  },
  {
   "cell_type": "code",
   "execution_count": 69,
   "metadata": {},
   "outputs": [
    {
     "data": {
      "image/png": "[encoded data removed]",
      "text/plain": [
       "<Figure size 1152x1008 with 1 Axes>"
      ]
     },
     "metadata": {
      "needs_background": "light"
     },
     "output_type": "display_data"
    }
   ],
   "source": [
    "ABcompare.plot(kind = \"bar\", fontsize = 12, figsize=(16,14),color = ['g','b'], width= 0.7);\n",
    "plt.legend([\"Actual\", \"Predicted\"],fontsize = 12);\n",
    "plt.ylabel('Prediction (Million)', fontsize = 12);"
   ]
  },
  {
   "cell_type": "markdown",
   "metadata": {},
   "source": [
    "### SVR"
   ]
  },
  {
   "cell_type": "code",
   "execution_count": 76,
   "metadata": {},
   "outputs": [
    {
     "name": "stderr",
     "output_type": "stream",
     "text": [
      "C:\\Users\\LZJ1995\\Anaconda3\\lib\\site-packages\\sklearn\\svm\\base.py:196: FutureWarning: The default value of gamma will change from 'auto' to 'scale' in version 0.22 to account better for unscaled features. Set gamma explicitly to 'auto' or 'scale' to avoid this warning.\n",
      "  \"avoid this warning.\", FutureWarning)\n"
     ]
    },
    {
     "name": "stdout",
     "output_type": "stream",
     "text": [
      "5199.2848685260215\n",
      "-0.1222205942299841\n",
      "-0.12222059422998409\n"
     ]
    }
   ],
   "source": [
    "svr = SVR(C=10,degree=500)\n",
    "svr.fit(X_train, y_train)\n",
    "\n",
    "\n",
    "y_pred=svr.predict(X_test)\n",
    "y_pred\n",
    "\n",
    "print(mean_squared_error(y_test,y_pred))\n",
    "print(r2_score(y_test,y_pred))\n",
    "print(svr.score(X_test,y_test))"
   ]
  },
  {
   "cell_type": "code",
   "execution_count": 77,
   "metadata": {},
   "outputs": [
    {
     "data": {
      "text/html": [
       "<div>\n",
       "<style scoped>\n",
       "    .dataframe tbody tr th:only-of-type {\n",
       "        vertical-align: middle;\n",
       "    }\n",
       "\n",
       "    .dataframe tbody tr th {\n",
       "        vertical-align: top;\n",
       "    }\n",
       "\n",
       "    .dataframe thead th {\n",
       "        text-align: right;\n",
       "    }\n",
       "</style>\n",
       "<table border=\"1\" class=\"dataframe\">\n",
       "  <thead>\n",
       "    <tr style=\"text-align: right;\">\n",
       "      <th></th>\n",
       "      <th>index</th>\n",
       "      <th>Predicted</th>\n",
       "      <th>Actual</th>\n",
       "    </tr>\n",
       "  </thead>\n",
       "  <tbody>\n",
       "    <tr>\n",
       "      <th>0</th>\n",
       "      <td>2550</td>\n",
       "      <td>13.233329</td>\n",
       "      <td>7.362100</td>\n",
       "    </tr>\n",
       "    <tr>\n",
       "      <th>1</th>\n",
       "      <td>5445</td>\n",
       "      <td>13.233329</td>\n",
       "      <td>132.092958</td>\n",
       "    </tr>\n",
       "    <tr>\n",
       "      <th>2</th>\n",
       "      <td>5518</td>\n",
       "      <td>13.233329</td>\n",
       "      <td>148.768917</td>\n",
       "    </tr>\n",
       "    <tr>\n",
       "      <th>3</th>\n",
       "      <td>1554</td>\n",
       "      <td>13.233329</td>\n",
       "      <td>0.925756</td>\n",
       "    </tr>\n",
       "    <tr>\n",
       "      <th>4</th>\n",
       "      <td>2600</td>\n",
       "      <td>13.233329</td>\n",
       "      <td>7.994115</td>\n",
       "    </tr>\n",
       "  </tbody>\n",
       "</table>\n",
       "</div>"
      ],
      "text/plain": [
       "   index  Predicted      Actual\n",
       "0   2550  13.233329    7.362100\n",
       "1   5445  13.233329  132.092958\n",
       "2   5518  13.233329  148.768917\n",
       "3   1554  13.233329    0.925756\n",
       "4   2600  13.233329    7.994115"
      ]
     },
     "execution_count": 77,
     "metadata": {},
     "output_type": "execute_result"
    }
   ],
   "source": [
    "SVRcompare=pd.DataFrame({'Predicted':y_pred,'Actual':y_test}).reset_index()\n",
    "SVRcompare.head()"
   ]
  },
  {
   "cell_type": "code",
   "execution_count": 78,
   "metadata": {},
   "outputs": [
    {
     "data": {
      "text/html": [
       "<div>\n",
       "<style scoped>\n",
       "    .dataframe tbody tr th:only-of-type {\n",
       "        vertical-align: middle;\n",
       "    }\n",
       "\n",
       "    .dataframe tbody tr th {\n",
       "        vertical-align: top;\n",
       "    }\n",
       "\n",
       "    .dataframe thead th {\n",
       "        text-align: right;\n",
       "    }\n",
       "</style>\n",
       "<table border=\"1\" class=\"dataframe\">\n",
       "  <thead>\n",
       "    <tr style=\"text-align: right;\">\n",
       "      <th></th>\n",
       "      <th>movie</th>\n",
       "      <th>Predicted</th>\n",
       "      <th>Actual</th>\n",
       "      <th>Error (%)</th>\n",
       "    </tr>\n",
       "  </thead>\n",
       "  <tbody>\n",
       "    <tr>\n",
       "      <th>866</th>\n",
       "      <td>Malice</td>\n",
       "      <td>13.233329</td>\n",
       "      <td>0.003600</td>\n",
       "      <td>-1.105040e+06</td>\n",
       "    </tr>\n",
       "    <tr>\n",
       "      <th>277</th>\n",
       "      <td>Ruby in Paradise</td>\n",
       "      <td>13.233329</td>\n",
       "      <td>0.004106</td>\n",
       "      <td>-3.222397e+05</td>\n",
       "    </tr>\n",
       "    <tr>\n",
       "      <th>1123</th>\n",
       "      <td>Toy Story</td>\n",
       "      <td>13.233329</td>\n",
       "      <td>0.025812</td>\n",
       "      <td>-2.243642e+05</td>\n",
       "    </tr>\n",
       "    <tr>\n",
       "      <th>791</th>\n",
       "      <td>Dragon: The Bruce Lee Story</td>\n",
       "      <td>13.233329</td>\n",
       "      <td>0.001434</td>\n",
       "      <td>-2.126569e+05</td>\n",
       "    </tr>\n",
       "    <tr>\n",
       "      <th>598</th>\n",
       "      <td>Indian Summer</td>\n",
       "      <td>13.051246</td>\n",
       "      <td>0.001303</td>\n",
       "      <td>-2.071141e+05</td>\n",
       "    </tr>\n",
       "  </tbody>\n",
       "</table>\n",
       "</div>"
      ],
      "text/plain": [
       "                            movie  Predicted    Actual     Error (%)\n",
       "866                        Malice  13.233329  0.003600 -1.105040e+06\n",
       "277              Ruby in Paradise  13.233329  0.004106 -3.222397e+05\n",
       "1123                    Toy Story  13.233329  0.025812 -2.243642e+05\n",
       "791   Dragon: The Bruce Lee Story  13.233329  0.001434 -2.126569e+05\n",
       "598                 Indian Summer  13.051246  0.001303 -2.071141e+05"
      ]
     },
     "execution_count": 78,
     "metadata": {},
     "output_type": "execute_result"
    }
   ],
   "source": [
    "SVR_df=pd.merge(US_Movie,SVRcompare,on='index',how='right').drop(columns='index')\n",
    "SVR_df['Error (%)']=(RF_df['Actual']-DT_df['Predicted'])/RF_df['Actual']*100\n",
    "SVR_df.sort_values(by='Error (%)',ascending=True).head()"
   ]
  },
  {
   "cell_type": "code",
   "execution_count": 79,
   "metadata": {},
   "outputs": [
    {
     "data": {
      "image/png": "[encoded data removed]",
      "text/plain": [
       "<Figure size 1152x1008 with 1 Axes>"
      ]
     },
     "metadata": {
      "needs_background": "light"
     },
     "output_type": "display_data"
    }
   ],
   "source": [
    "plt.figure(figsize=(16,14));\n",
    "plt.plot(SVR_df['Actual'],'.', c = 'red', label = \"Actual\");\n",
    "plt.plot(SVR_df['Predicted'], c = 'green', label = \"Prediction\");\n",
    "plt.legend([\"Actual\", \"Predicted\"],fontsize = 12)\n",
    "plt.ylabel('Prediction (Million)', fontsize = 14);"
   ]
  },
  {
   "cell_type": "code",
   "execution_count": 80,
   "metadata": {},
   "outputs": [
    {
     "data": {
      "image/png": "[encoded data removed]",
      "text/plain": [
       "<Figure size 432x288 with 1 Axes>"
      ]
     },
     "metadata": {
      "needs_background": "light"
     },
     "output_type": "display_data"
    }
   ],
   "source": [
    "SVR_df['Error (%)'].hist(range=(1,100),bins=50);"
   ]
  },
  {
   "cell_type": "code",
   "execution_count": 75,
   "metadata": {},
   "outputs": [
    {
     "ename": "NameError",
     "evalue": "name 'df_f' is not defined",
     "output_type": "error",
     "traceback": [
      "\u001b[1;31m---------------------------------------------------------------------------\u001b[0m",
      "\u001b[1;31mNameError\u001b[0m                                 Traceback (most recent call last)",
      "\u001b[1;32m<ipython-input-75-1662730987b5>\u001b[0m in \u001b[0;36m<module>\u001b[1;34m\u001b[0m\n\u001b[0;32m     12\u001b[0m     \u001b[0mplt\u001b[0m\u001b[1;33m.\u001b[0m\u001b[0myticks\u001b[0m\u001b[1;33m(\u001b[0m\u001b[0mrange\u001b[0m\u001b[1;33m(\u001b[0m\u001b[0mlen\u001b[0m\u001b[1;33m(\u001b[0m\u001b[0mcorr\u001b[0m\u001b[1;33m.\u001b[0m\u001b[0mcolumns\u001b[0m\u001b[1;33m)\u001b[0m\u001b[1;33m)\u001b[0m\u001b[1;33m,\u001b[0m \u001b[0mcorr\u001b[0m\u001b[1;33m.\u001b[0m\u001b[0mcolumns\u001b[0m\u001b[1;33m)\u001b[0m\u001b[1;33m;\u001b[0m\u001b[1;33m\u001b[0m\u001b[1;33m\u001b[0m\u001b[0m\n\u001b[0;32m     13\u001b[0m \u001b[1;33m\u001b[0m\u001b[0m\n\u001b[1;32m---> 14\u001b[1;33m \u001b[0mcorr\u001b[0m \u001b[1;33m=\u001b[0m \u001b[0mdf_f\u001b[0m\u001b[1;33m.\u001b[0m\u001b[0mcorr\u001b[0m\u001b[1;33m(\u001b[0m\u001b[1;33m)\u001b[0m\u001b[1;33m\u001b[0m\u001b[1;33m\u001b[0m\u001b[0m\n\u001b[0m\u001b[0;32m     15\u001b[0m \u001b[0msns\u001b[0m\u001b[1;33m.\u001b[0m\u001b[0mheatmap\u001b[0m\u001b[1;33m(\u001b[0m\u001b[0mcorr\u001b[0m\u001b[1;33m,\u001b[0m \u001b[0mxticklabels\u001b[0m\u001b[1;33m=\u001b[0m\u001b[0mcorr\u001b[0m\u001b[1;33m.\u001b[0m\u001b[0mcolumns\u001b[0m\u001b[1;33m.\u001b[0m\u001b[0mvalues\u001b[0m\u001b[1;33m,\u001b[0m \u001b[0myticklabels\u001b[0m\u001b[1;33m=\u001b[0m\u001b[0mcorr\u001b[0m\u001b[1;33m.\u001b[0m\u001b[0mcolumns\u001b[0m\u001b[1;33m.\u001b[0m\u001b[0mvalues\u001b[0m\u001b[1;33m)\u001b[0m\u001b[1;33m\u001b[0m\u001b[1;33m\u001b[0m\u001b[0m\n",
      "\u001b[1;31mNameError\u001b[0m: name 'df_f' is not defined"
     ]
    }
   ],
   "source": [
    "def plot_corr(df,size=50):\n",
    "    '''Function plots a graphical correlation matrix for each pair of columns in the dataframe.\n",
    "\n",
    "    Input:\n",
    "        df: pandas DataFrame\n",
    "        size: vertical and horizontal size of the plot'''\n",
    "\n",
    "    corr = df.corr()\n",
    "    fig, ax = plt.subplots(figsize=(size, size))\n",
    "    ax.matshow(corr)\n",
    "    plt.xticks(range(len(corr.columns)), corr.columns);\n",
    "    plt.yticks(range(len(corr.columns)), corr.columns);\n",
    "    \n",
    "corr = df_f.corr()\n",
    "sns.heatmap(corr, xticklabels=corr.columns.values, yticklabels=corr.columns.values)"
   ]
  },
  {
   "cell_type": "code",
   "execution_count": null,
   "metadata": {},
   "outputs": [],
   "source": [
    "plt.matshow(df_f.corr())\n",
    "plt.show()"
   ]
  }
 ],
 "metadata": {
  "kernelspec": {
   "display_name": "Python 3",
   "language": "python",
   "name": "python3"
  },
  "language_info": {
   "codemirror_mode": {
    "name": "ipython",
    "version": 3
   },
   "file_extension": ".py",
   "mimetype": "text/x-python",
   "name": "python",
   "nbconvert_exporter": "python",
   "pygments_lexer": "ipython3",
   "version": "3.7.1"
  }
 },
 "nbformat": 4,
 "nbformat_minor": 2
}
